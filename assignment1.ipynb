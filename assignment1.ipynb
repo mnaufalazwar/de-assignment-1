{
 "cells": [
  {
   "cell_type": "markdown",
   "id": "87439a19-b252-4cae-af75-634af1ef2b0d",
   "metadata": {},
   "source": [
    "# Import Dependencies"
   ]
  },
  {
   "cell_type": "code",
   "execution_count": 20,
   "id": "06220881-5a58-4202-8f38-43651a21837f",
   "metadata": {},
   "outputs": [],
   "source": [
    "from datetime import datetime\n",
    "from io import BytesIO\n",
    "from sqlalchemy import create_engine, inspect, text\n",
    "from time import time\n",
    "\n",
    "import json\n",
    "import locale\n",
    "import numpy as np\n",
    "import pandas as pd\n",
    "import requests\n",
    "\n",
    "import requests\n",
    "import time as t\n",
    "from geoalchemy2 import Geometry, WKTElement\n",
    "\n",
    "import warnings\n",
    "warnings.filterwarnings(\"ignore\")"
   ]
  },
  {
   "cell_type": "markdown",
   "id": "be690e41-a048-4b04-985c-f5fce794a302",
   "metadata": {},
   "source": [
    "# 1. Database setup"
   ]
  },
  {
   "cell_type": "markdown",
   "id": "634b87cc-aaec-4d55-8893-ee0b3a4facf2",
   "metadata": {},
   "source": [
    "Notes: put your postgresql configuration in the config.json file"
   ]
  },
  {
   "cell_type": "code",
   "execution_count": 21,
   "id": "c87faa07-03f3-4ed2-8a7c-608f1400f41b",
   "metadata": {},
   "outputs": [],
   "source": [
    "with open('config.json') as config:\n",
    "    db_config = json.load(config)\n",
    "\n",
    "db_user = db_config['DB_USER']\n",
    "db_password = db_config['DB_PASSWORD']\n",
    "db_host = db_config['DB_HOST']\n",
    "db_port = db_config['DB_PORT']\n",
    "db_name = db_config['DB_NAME']\n",
    "\n",
    "db_engine = create_engine(f'postgresql://{db_user}:{db_password}@{db_host}:{db_port}/{db_name}')\n",
    "gh_inspector = inspect(db_engine)"
   ]
  },
  {
   "cell_type": "markdown",
   "id": "8a60dd88-9e9c-48a5-88ad-fdb2d87f0c77",
   "metadata": {},
   "source": [
    "# 2. Dataset 1: Greenhouse and energy information by designated generation facility"
   ]
  },
  {
   "cell_type": "code",
   "execution_count": 22,
   "id": "968565d2-dcbd-4405-afc5-61aa5db50092",
   "metadata": {},
   "outputs": [],
   "source": [
    "gh_energy_data_facts = [\n",
    "    {\n",
    "        \"time_period_start\": datetime(2023, 1, 7),\n",
    "        \"time_period_stop\": datetime(2024, 6, 30),\n",
    "        \"dataset_id\": \"ID0243\"\n",
    "    },\n",
    "    {\n",
    "        \"time_period_start\": datetime(2022, 1, 7),\n",
    "        \"time_period_stop\": datetime(2023, 6, 30),\n",
    "        \"dataset_id\": \"ID0083\"\n",
    "    },\n",
    "    {\n",
    "        \"time_period_start\": datetime(2021, 1, 7),\n",
    "        \"time_period_stop\": datetime(2022, 6, 30),\n",
    "        \"dataset_id\": \"ID0082\"\n",
    "    },\n",
    "    {\n",
    "        \"time_period_start\": datetime(2020, 1, 7),\n",
    "        \"time_period_stop\": datetime(2021, 6, 30),\n",
    "        \"dataset_id\": \"ID0081\"\n",
    "    },\n",
    "    {\n",
    "        \"time_period_start\": datetime(2019, 1, 7),\n",
    "        \"time_period_stop\": datetime(2020, 6, 30),\n",
    "        \"dataset_id\": \"ID0080\"\n",
    "    },\n",
    "    {\n",
    "        \"time_period_start\": datetime(2018, 1, 7),\n",
    "        \"time_period_stop\": datetime(2019, 6, 30),\n",
    "        \"dataset_id\": \"ID0079\"\n",
    "    },\n",
    "    {\n",
    "        \"time_period_start\": datetime(2017, 1, 7),\n",
    "        \"time_period_stop\": datetime(2018, 6, 30),\n",
    "        \"dataset_id\": \"ID0078\"\n",
    "    },\n",
    "    {\n",
    "        \"time_period_start\": datetime(2016, 1, 7),\n",
    "        \"time_period_stop\": datetime(2017, 6, 30),\n",
    "        \"dataset_id\": \"ID0077\"\n",
    "    },\n",
    "    {\n",
    "        \"time_period_start\": datetime(2015, 1, 7),\n",
    "        \"time_period_stop\": datetime(2016, 6, 30),\n",
    "        \"dataset_id\": \"ID0076\"\n",
    "    },\n",
    "    {\n",
    "        \"time_period_start\": datetime(2014, 1, 7),\n",
    "        \"time_period_stop\": datetime(2015, 6, 30),\n",
    "        \"dataset_id\": \"ID0075\"\n",
    "    }\n",
    "]\n",
    "\n",
    "gh_energy_table_name = \"greenhouse_and_energy\"\n",
    "\n",
    "gh_energy_column_aliases = [\n",
    "    {\"reporting_entity\": [\"reportingentity\", \"reportingEntity\", \"controllingcorporation\"]},\n",
    "    {\"facility_name\" : [\"facilityname\", \"facilityName\"]},\n",
    "    {\"type\": [\"type\"]},\n",
    "    {\"state\": [\"state\"]},\n",
    "    {\"electricity_production_gj\": [\"electricityproductionGJ\", \"electricityProductionGJ\"]},\n",
    "    {\"electricity_production_mwh\" :[\"electricityproductionMWh\", \"electricityProductionMWh\", \"electricityProductionMwh\"]},\n",
    "    {\"total_scope_1_emissions_t_co2_e\": [\"totalscope1emissionstCO2e\", \"totalScope1EmissionstCO2e\", \"scope1tCO2e\"]},\n",
    "    {\"total_scope_2_emissions_t_co2_e\": [\"totalscope2emissionstCO2e\", \"totalScope2EmissionstCO2e\", \"totalScope2EmissionstCO2e2\", \"scope2tCO2e\"]},\n",
    "    {\"total_emissions_t_co2_e\": [\"totalemissionstCO2e\", \"totalEmissionstCO2e\"]},\n",
    "    {\"emission_intensity_t_co2_emwh\": [\"emissionintensitytCO2eMWh\", \"emissionIntensitytCO2eMWh\", \"emissionIntensitytMwh\"]},\n",
    "    {\"grid_connected\": [\"gridconnected\", \"gridConnected\", \"gridConnected2\"]},\n",
    "    {\"grid\": [\"grid\"]},\n",
    "    {\"primary_fuel\": [\"primaryfuel\", \"primaryFuel\"]},\n",
    "    {\"important_notes\": [\"importantnotes\", \"importantNotes\"]},\n",
    "    {\"time_period_start\": [\"time_period_start\"]},\n",
    "    {\"time_period_stop\": [\"time_period_stop\"]},\n",
    "    {\"dataset_id\": [\"dataset_id\"]} \n",
    "]"
   ]
  },
  {
   "cell_type": "code",
   "execution_count": 23,
   "id": "f3e7595c-893b-4161-9f66-411995097f4a",
   "metadata": {},
   "outputs": [
    {
     "name": "stdout",
     "output_type": "stream",
     "text": [
      "CREATE TABLE \"greenhouse_and_energy\" (\n",
      "\"reporting_entity\" TEXT,\n",
      "  \"facility_name\" TEXT,\n",
      "  \"type\" TEXT,\n",
      "  \"state\" TEXT,\n",
      "  \"electricity_production_gj\" INTEGER,\n",
      "  \"electricity_production_mwh\" INTEGER,\n",
      "  \"total_scope_1_emissions_t_co2_e\" INTEGER,\n",
      "  \"total_scope_2_emissions_t_co2_e\" REAL,\n",
      "  \"total_emissions_t_co2_e\" INTEGER,\n",
      "  \"emission_intensity_t_co2_emwh\" REAL,\n",
      "  \"grid_connected\" TEXT,\n",
      "  \"grid\" TEXT,\n",
      "  \"primary_fuel\" TEXT,\n",
      "  \"important_notes\" TEXT,\n",
      "  \"time_period_start\" TIMESTAMP,\n",
      "  \"time_period_stop\" TIMESTAMP,\n",
      "  \"dataset_id\" TEXT\n",
      ")\n",
      "inserting table ID0243...\n",
      "inserted table ID0243 in      0.056 seconds\n",
      "775 rows inserted\n",
      "inserting table ID0083...\n",
      "inserted table ID0083 in      0.049 seconds\n",
      "1480 rows inserted\n",
      "inserting table ID0082...\n",
      "inserted table ID0082 in      0.055 seconds\n",
      "2171 rows inserted\n",
      "inserting table ID0081...\n",
      "inserted table ID0081 in      0.048 seconds\n",
      "2826 rows inserted\n",
      "inserting table ID0080...\n",
      "inserted table ID0080 in      0.045 seconds\n",
      "3447 rows inserted\n",
      "inserting table ID0079...\n",
      "inserted table ID0079 in      0.041 seconds\n",
      "4030 rows inserted\n",
      "inserting table ID0078...\n",
      "inserted table ID0078 in      0.039 seconds\n",
      "4552 rows inserted\n",
      "inserting table ID0077...\n",
      "inserted table ID0077 in      0.037 seconds\n",
      "5038 rows inserted\n",
      "inserting table ID0076...\n",
      "inserted table ID0076 in      0.035 seconds\n",
      "5518 rows inserted\n",
      "inserting table ID0075...\n",
      "inserted table ID0075 in      0.034 seconds\n",
      "5942 rows inserted\n"
     ]
    }
   ],
   "source": [
    "def standardize_column_name(df, col_name_aliases):\n",
    "    col_names = df.columns.tolist()\n",
    "    col_map = {}\n",
    "\n",
    "    for col in col_names:\n",
    "        for alias_dict in col_name_aliases:\n",
    "            alias = list(alias_dict.values())[0]\n",
    "            if col in alias:\n",
    "                col_map[col] = list(alias_dict.keys())[0]\n",
    "                break\n",
    "\n",
    "    return df.rename(columns=col_map)\n",
    "\n",
    "total_row_inserted = 0\n",
    "for index, fact in enumerate(gh_energy_data_facts):\n",
    "    # read csv\n",
    "    dataset_id = fact['dataset_id']\n",
    "    url = f'https://api.cer.gov.au/datahub-public/v1/api/ODataDataset/NGER/dataset/{dataset_id}?select%3D%2A'\n",
    "    response = requests.get(url)\n",
    "    df = pd.DataFrame(response.json())\n",
    "\n",
    "    # standardize column name\n",
    "    df = standardize_column_name(df, gh_energy_column_aliases)\n",
    "\n",
    "    # add columns: time_period, dataset_id\n",
    "    df['time_period_start'] = fact['time_period_start']\n",
    "    df['time_period_stop'] = fact['time_period_stop']\n",
    "    df['dataset_id'] = fact['dataset_id']\n",
    "\n",
    "    if index == 0:\n",
    "        # Generate the CREATE TABLE statement\n",
    "        create_table_statement = pd.io.sql.get_schema(df, gh_energy_table_name)\n",
    "        \n",
    "        # Print the generated statement\n",
    "        print(create_table_statement)\n",
    "\n",
    "        # Create table\n",
    "        df.head(n=0).to_sql(name=gh_energy_table_name, con=db_engine, if_exists='replace')\n",
    "    \n",
    "    print(f'inserting table {fact['dataset_id']}...')\n",
    "    t_start = time()\n",
    "    df.to_sql(name=gh_energy_table_name, con=db_engine, if_exists='append')\n",
    "    t_end = time()\n",
    "    print(f'inserted table {fact['dataset_id']} in {t_end-t_start:10.3f} seconds')\n",
    "    total_row_inserted = total_row_inserted + len(df)\n",
    "    print(f'{total_row_inserted} rows inserted')\n",
    "        "
   ]
  },
  {
   "cell_type": "markdown",
   "id": "b94ef65a-55d7-45bb-a3c5-d5da01eda580",
   "metadata": {},
   "source": [
    "# 3. Dataset 2: Large-scale renewable energy data"
   ]
  },
  {
   "cell_type": "markdown",
   "id": "aa93998d-a4e2-46d8-baf3-61accf0aab26",
   "metadata": {},
   "source": [
    "## 3.1. 2001–2024 Accredited power stations data"
   ]
  },
  {
   "cell_type": "code",
   "execution_count": 24,
   "id": "437643c3-ea7e-4157-9e45-3057ae8341f2",
   "metadata": {},
   "outputs": [
    {
     "data": {
      "text/html": [
       "<div>\n",
       "<style scoped>\n",
       "    .dataframe tbody tr th:only-of-type {\n",
       "        vertical-align: middle;\n",
       "    }\n",
       "\n",
       "    .dataframe tbody tr th {\n",
       "        vertical-align: top;\n",
       "    }\n",
       "\n",
       "    .dataframe thead th {\n",
       "        text-align: right;\n",
       "    }\n",
       "</style>\n",
       "<table border=\"1\" class=\"dataframe\">\n",
       "  <thead>\n",
       "    <tr style=\"text-align: right;\">\n",
       "      <th></th>\n",
       "      <th>Accreditation code</th>\n",
       "      <th>Power station name</th>\n",
       "      <th>State</th>\n",
       "      <th>Installed capacity</th>\n",
       "      <th>Postcode</th>\n",
       "      <th>Fuel source(s)</th>\n",
       "      <th>Accreditation start date</th>\n",
       "      <th>Suspension status</th>\n",
       "      <th>Baseline (MWh)</th>\n",
       "      <th>Comment</th>\n",
       "    </tr>\n",
       "  </thead>\n",
       "  <tbody>\n",
       "    <tr>\n",
       "      <th>0</th>\n",
       "      <td>SRPXQLG5</td>\n",
       "      <td>Varsity Views - Solar w SGU - QLD</td>\n",
       "      <td>QLD</td>\n",
       "      <td>0.2109</td>\n",
       "      <td>4227</td>\n",
       "      <td>Solar</td>\n",
       "      <td>18/12/2024</td>\n",
       "      <td>Unsuspended</td>\n",
       "      <td>0</td>\n",
       "      <td>NaN</td>\n",
       "    </tr>\n",
       "    <tr>\n",
       "      <th>1</th>\n",
       "      <td>SRPYNS51</td>\n",
       "      <td>NNSWLHD-Byron Central Hospital - Solar - NSW</td>\n",
       "      <td>NSW</td>\n",
       "      <td>0.7203</td>\n",
       "      <td>2481</td>\n",
       "      <td>Solar</td>\n",
       "      <td>12/12/2024</td>\n",
       "      <td>Unsuspended</td>\n",
       "      <td>0</td>\n",
       "      <td>NaN</td>\n",
       "    </tr>\n",
       "    <tr>\n",
       "      <th>2</th>\n",
       "      <td>SRPXQLG2</td>\n",
       "      <td>Springwood Terrace Care Community - Solar w SG...</td>\n",
       "      <td>QLD</td>\n",
       "      <td>0.1890</td>\n",
       "      <td>4127</td>\n",
       "      <td>Solar</td>\n",
       "      <td>10/12/2024</td>\n",
       "      <td>Unsuspended</td>\n",
       "      <td>0</td>\n",
       "      <td>NaN</td>\n",
       "    </tr>\n",
       "    <tr>\n",
       "      <th>3</th>\n",
       "      <td>SRPYNS45</td>\n",
       "      <td>Bunnings Bennetts Green - Solar - NSW</td>\n",
       "      <td>NSW</td>\n",
       "      <td>0.2800</td>\n",
       "      <td>2290</td>\n",
       "      <td>Solar</td>\n",
       "      <td>3/12/2024</td>\n",
       "      <td>Unsuspended</td>\n",
       "      <td>0</td>\n",
       "      <td>NaN</td>\n",
       "    </tr>\n",
       "    <tr>\n",
       "      <th>4</th>\n",
       "      <td>SRPYNS46</td>\n",
       "      <td>Tuggerah Home MSB1 254kW - Solar - NSW</td>\n",
       "      <td>NSW</td>\n",
       "      <td>0.2540</td>\n",
       "      <td>2259</td>\n",
       "      <td>Solar</td>\n",
       "      <td>2/12/2024</td>\n",
       "      <td>Unsuspended</td>\n",
       "      <td>0</td>\n",
       "      <td>NaN</td>\n",
       "    </tr>\n",
       "  </tbody>\n",
       "</table>\n",
       "</div>"
      ],
      "text/plain": [
       "  Accreditation code                                 Power station name State  \\\n",
       "0           SRPXQLG5                  Varsity Views - Solar w SGU - QLD   QLD   \n",
       "1           SRPYNS51       NNSWLHD-Byron Central Hospital - Solar - NSW   NSW   \n",
       "2           SRPXQLG2  Springwood Terrace Care Community - Solar w SG...   QLD   \n",
       "3           SRPYNS45              Bunnings Bennetts Green - Solar - NSW   NSW   \n",
       "4           SRPYNS46             Tuggerah Home MSB1 254kW - Solar - NSW   NSW   \n",
       "\n",
       "   Installed capacity  Postcode Fuel source(s) Accreditation start date  \\\n",
       "0              0.2109      4227          Solar               18/12/2024   \n",
       "1              0.7203      2481          Solar               12/12/2024   \n",
       "2              0.1890      4127          Solar               10/12/2024   \n",
       "3              0.2800      2290          Solar                3/12/2024   \n",
       "4              0.2540      2259          Solar                2/12/2024   \n",
       "\n",
       "  Suspension status Baseline (MWh) Comment  \n",
       "0       Unsuspended              0     NaN  \n",
       "1       Unsuspended              0     NaN  \n",
       "2       Unsuspended              0     NaN  \n",
       "3       Unsuspended              0     NaN  \n",
       "4       Unsuspended              0     NaN  "
      ]
     },
     "execution_count": 24,
     "metadata": {},
     "output_type": "execute_result"
    }
   ],
   "source": [
    "url = \"https://cer.gov.au/document/historical-accredited-power-stations-and-projects-0\"\n",
    "df = pd.read_csv(url, encoding='ISO-8859-1')\n",
    "df.head()"
   ]
  },
  {
   "cell_type": "code",
   "execution_count": 25,
   "id": "bdf4d8eb-0421-46b7-b05c-2258537a169d",
   "metadata": {},
   "outputs": [
    {
     "data": {
      "text/plain": [
       "Index(['accreditation_code', 'power_station_name', 'state',\n",
       "       'installed_capacity', 'postcode', 'fuel_sources',\n",
       "       'accreditation_start_date', 'suspension_status', 'baseline_mwh',\n",
       "       'comment'],\n",
       "      dtype='object')"
      ]
     },
     "execution_count": 25,
     "metadata": {},
     "output_type": "execute_result"
    }
   ],
   "source": [
    "# Rename column names\n",
    "df = df.rename(columns={\n",
    "    'Accreditation code': 'accreditation_code',\n",
    "    'Power station name': 'power_station_name',\n",
    "    'State': 'state',\n",
    "    'Installed capacity': 'installed_capacity',\n",
    "    'Postcode': 'postcode',\n",
    "    'Fuel source(s)': 'fuel_sources',\n",
    "    'Accreditation start date': 'accreditation_start_date',\n",
    "    'Suspension status': 'suspension_status',\n",
    "    'Baseline (MWh)': 'baseline_mwh',\n",
    "    'Comment': 'comment' \n",
    "})\n",
    "df.columns"
   ]
  },
  {
   "cell_type": "code",
   "execution_count": 26,
   "id": "7f997d74-34d8-45a2-afec-9254547d805a",
   "metadata": {},
   "outputs": [
    {
     "name": "stdout",
     "output_type": "stream",
     "text": [
      "accreditation_code           object\n",
      "power_station_name           object\n",
      "state                        object\n",
      "installed_capacity          float64\n",
      "postcode                      int64\n",
      "fuel_sources                 object\n",
      "accreditation_start_date     object\n",
      "suspension_status            object\n",
      "baseline_mwh                 object\n",
      "comment                      object\n",
      "dtype: object\n"
     ]
    }
   ],
   "source": [
    "# check data types\n",
    "print(df.dtypes)"
   ]
  },
  {
   "cell_type": "code",
   "execution_count": 27,
   "id": "50bfc9c2-0cba-42be-92b8-04b0f129252d",
   "metadata": {},
   "outputs": [],
   "source": [
    "# convert data types\n",
    "\n",
    "locale.setlocale(locale.LC_ALL, 'en_US.UTF-8')\n",
    "df['baseline_mwh'] = df['baseline_mwh'].apply(lambda x: locale.atoi(str(x)) if isinstance(x, str) else x)\n",
    "\n",
    "df['accreditation_start_date'] = pd.to_datetime(df['accreditation_start_date'], format='%d/%m/%Y')"
   ]
  },
  {
   "cell_type": "code",
   "execution_count": 28,
   "id": "75211ec3-16a0-47c5-8d71-c52f52903919",
   "metadata": {},
   "outputs": [
    {
     "data": {
      "text/plain": [
       "20"
      ]
     },
     "execution_count": 28,
     "metadata": {},
     "output_type": "execute_result"
    }
   ],
   "source": [
    "# save to database\n",
    "table_name='accredited_power_stations_data'\n",
    "df.to_sql(name=table_name, con=db_engine, if_exists='replace')"
   ]
  },
  {
   "cell_type": "markdown",
   "id": "6545ce10-8ad9-43e0-a1d4-923a0ff87482",
   "metadata": {},
   "source": [
    "## 3.2. 2024 total LGCs and capacity of accredited power stations"
   ]
  },
  {
   "cell_type": "code",
   "execution_count": 29,
   "id": "60ceb4cd-b0ab-4443-aad9-a2ac99f8b386",
   "metadata": {},
   "outputs": [
    {
     "data": {
      "text/html": [
       "<div>\n",
       "<style scoped>\n",
       "    .dataframe tbody tr th:only-of-type {\n",
       "        vertical-align: middle;\n",
       "    }\n",
       "\n",
       "    .dataframe tbody tr th {\n",
       "        vertical-align: top;\n",
       "    }\n",
       "\n",
       "    .dataframe thead th {\n",
       "        text-align: right;\n",
       "    }\n",
       "</style>\n",
       "<table border=\"1\" class=\"dataframe\">\n",
       "  <thead>\n",
       "    <tr style=\"text-align: right;\">\n",
       "      <th></th>\n",
       "      <th>Total LGCs in the REC Registry</th>\n",
       "      <th>MW of approved power stations (since 1 Jan 2024)</th>\n",
       "      <th>Approved power stations (since 1 Jan 2024)</th>\n",
       "      <th>As at</th>\n",
       "    </tr>\n",
       "  </thead>\n",
       "  <tbody>\n",
       "    <tr>\n",
       "      <th>0</th>\n",
       "      <td>47,793,810</td>\n",
       "      <td>9.6</td>\n",
       "      <td>29</td>\n",
       "      <td>31/1/2024</td>\n",
       "    </tr>\n",
       "    <tr>\n",
       "      <th>1</th>\n",
       "      <td>16,976,565</td>\n",
       "      <td>340.8</td>\n",
       "      <td>97</td>\n",
       "      <td>29/2/2024</td>\n",
       "    </tr>\n",
       "    <tr>\n",
       "      <th>2</th>\n",
       "      <td>21,088,050</td>\n",
       "      <td>871.2</td>\n",
       "      <td>143</td>\n",
       "      <td>31/3/2024</td>\n",
       "    </tr>\n",
       "    <tr>\n",
       "      <th>3</th>\n",
       "      <td>24,748,564</td>\n",
       "      <td>927.6</td>\n",
       "      <td>192</td>\n",
       "      <td>30/04/2024</td>\n",
       "    </tr>\n",
       "    <tr>\n",
       "      <th>4</th>\n",
       "      <td>28,158,272</td>\n",
       "      <td>971.3</td>\n",
       "      <td>250</td>\n",
       "      <td>31/5/2024</td>\n",
       "    </tr>\n",
       "  </tbody>\n",
       "</table>\n",
       "</div>"
      ],
      "text/plain": [
       "  Total LGCs in the REC Registry  \\\n",
       "0                     47,793,810   \n",
       "1                     16,976,565   \n",
       "2                     21,088,050   \n",
       "3                     24,748,564   \n",
       "4                     28,158,272   \n",
       "\n",
       "  MW of approved power stations (since 1 Jan 2024)  \\\n",
       "0                                              9.6   \n",
       "1                                            340.8   \n",
       "2                                            871.2   \n",
       "3                                            927.6   \n",
       "4                                            971.3   \n",
       "\n",
       "   Approved power stations (since 1 Jan 2024)       As at  \n",
       "0                                          29   31/1/2024  \n",
       "1                                          97   29/2/2024  \n",
       "2                                         143   31/3/2024  \n",
       "3                                         192  30/04/2024  \n",
       "4                                         250   31/5/2024  "
      ]
     },
     "execution_count": 29,
     "metadata": {},
     "output_type": "execute_result"
    }
   ],
   "source": [
    "url = \"https://cer.gov.au/document/total-lgcs-and-capacity-accredited-power-stations-2024\"\n",
    "df = pd.read_csv(url, encoding='ISO-8859-1')\n",
    "df.head()"
   ]
  },
  {
   "cell_type": "code",
   "execution_count": 30,
   "id": "5e2230c3-05da-4ba4-b9b8-04b0e62036b1",
   "metadata": {},
   "outputs": [
    {
     "data": {
      "text/plain": [
       "Index(['total_lgcs_in_the_rec_registry',\n",
       "       'mw_of_approved_power_stations_since_1_jan_2024',\n",
       "       'approved_power_stations_since_1_jan_2024', 'as_at'],\n",
       "      dtype='object')"
      ]
     },
     "execution_count": 30,
     "metadata": {},
     "output_type": "execute_result"
    }
   ],
   "source": [
    "# Rename column names\n",
    "df = df.rename(columns={\n",
    "    'Total LGCs in the REC Registry': 'total_lgcs_in_the_rec_registry',\n",
    "    'MW of approved power stations (since 1 Jan 2024)': 'mw_of_approved_power_stations_since_1_jan_2024',\n",
    "    'Approved power stations (since 1 Jan 2024)': 'approved_power_stations_since_1_jan_2024',\n",
    "    'As at': 'as_at'\n",
    "})\n",
    "df.columns"
   ]
  },
  {
   "cell_type": "code",
   "execution_count": 31,
   "id": "71b30dcc-af29-418c-8f1e-32fb0626f527",
   "metadata": {},
   "outputs": [
    {
     "name": "stdout",
     "output_type": "stream",
     "text": [
      "total_lgcs_in_the_rec_registry                    object\n",
      "mw_of_approved_power_stations_since_1_jan_2024    object\n",
      "approved_power_stations_since_1_jan_2024           int64\n",
      "as_at                                             object\n",
      "dtype: object\n"
     ]
    }
   ],
   "source": [
    "# check data types\n",
    "print(df.dtypes)"
   ]
  },
  {
   "cell_type": "code",
   "execution_count": 32,
   "id": "ad404614-9161-42ab-ab44-144dcbd82648",
   "metadata": {},
   "outputs": [],
   "source": [
    "# convert data types\n",
    "\n",
    "locale.setlocale(locale.LC_ALL, 'en_US.UTF-8')\n",
    "df['mw_of_approved_power_stations_since_1_jan_2024'] = df['mw_of_approved_power_stations_since_1_jan_2024'].apply(lambda x: locale.atof(str(x)) if isinstance(x, str) else x)\n",
    "\n",
    "df['as_at'] = pd.to_datetime(df['as_at'], format='%d/%m/%Y')"
   ]
  },
  {
   "cell_type": "code",
   "execution_count": 33,
   "id": "6721c8d1-ce93-4194-94ce-d932757f6e46",
   "metadata": {},
   "outputs": [
    {
     "data": {
      "text/plain": [
       "12"
      ]
     },
     "execution_count": 33,
     "metadata": {},
     "output_type": "execute_result"
    }
   ],
   "source": [
    "# save to database\n",
    "table_name='total_lgcs_and_capacity_of_accredited_power_stations'\n",
    "df.to_sql(name=table_name, con=db_engine, if_exists='replace')"
   ]
  },
  {
   "cell_type": "markdown",
   "id": "ce3ffa68-2d12-4e95-a8ff-3255613ef506",
   "metadata": {},
   "source": [
    "# 4. Dataset 3:  Australian Bureau of Statistic Data"
   ]
  },
  {
   "cell_type": "code",
   "execution_count": 34,
   "id": "486aac5b-16c5-40a6-9453-cce35358c597",
   "metadata": {},
   "outputs": [],
   "source": [
    "# base url for the data file\n",
    "\n",
    "url = \"https://www.abs.gov.au/methodologies/data-region-methodology/2011-24/14100DO0001_2011-24.xlsx\""
   ]
  },
  {
   "cell_type": "code",
   "execution_count": 35,
   "id": "37729cfc-2567-4e35-a084-0564c286956f",
   "metadata": {},
   "outputs": [],
   "source": [
    "# function to clean column names\n",
    "\n",
    "def clean_column_names(df):\n",
    "    # Clean the column names\n",
    "    df.columns = df.columns.str.lower()  # Convert to lowercase\n",
    "    df.columns = df.columns.str.replace(' ', '_')  # Replace spaces with underscores\n",
    "    df.columns = df.columns.str.replace('-', '_')  # Replace dash with underscores\n",
    "    df.columns = df.columns.str.replace('no.', 'integer')  # Replace dash with underscores\n",
    "    df.columns = df.columns.str.replace('%', 'pct')  # Replace % with 'pct'\n",
    "    df.columns = df.columns.str.replace('[^a-z0-9_]', '', regex=True)  # Remove special characters\n",
    "    return df"
   ]
  },
  {
   "cell_type": "code",
   "execution_count": 36,
   "id": "11b6b8b7-5e74-4aa1-abac-b0c56a48f277",
   "metadata": {},
   "outputs": [],
   "source": [
    "# function to convert data types\n",
    "\n",
    "def convert_abs_datatype(df):\n",
    "    locale.setlocale(locale.LC_ALL, 'fr_FR.UTF-8')\n",
    "    \n",
    "    unchanged_col = [\"code\", \"label\", \"year\"]\n",
    "    \n",
    "    # Opt-in to the future behavior of replace\n",
    "    pd.set_option('future.no_silent_downcasting', True)\n",
    "    \n",
    "    for col in list(df.columns):\n",
    "        if col not in unchanged_col:\n",
    "            if \"integer\" in col:\n",
    "                df[col] = df[col].replace('-', np.nan)\n",
    "                df[col] = df[col].apply(lambda x: locale.atoi(str(x)) if isinstance(x, str) else x)\n",
    "                df[col] = df[col].astype(\"Int64\")\n",
    "            else:\n",
    "                df[col] = df[col].replace('-', np.nan)\n",
    "                df[col] = df[col].apply(lambda x: locale.atof(str(x)) if isinstance(x, str) else x)\n",
    "    return df"
   ]
  },
  {
   "cell_type": "markdown",
   "id": "7b3581bd-7405-42e1-88de-3234a0cff8f9",
   "metadata": {},
   "source": [
    "## 4.1. Estimated resident population - year ended 30 June"
   ]
  },
  {
   "cell_type": "code",
   "execution_count": 37,
   "id": "b545cdaf-1005-4e3d-b265-25230c9b2333",
   "metadata": {},
   "outputs": [],
   "source": [
    "table_name = 'estimated_resident_population'"
   ]
  },
  {
   "cell_type": "markdown",
   "id": "816f8bf2-720d-4ab1-80e3-0471a0f42756",
   "metadata": {},
   "source": [
    "### 4.1.1. Table 1 (For exploratory)"
   ]
  },
  {
   "cell_type": "code",
   "execution_count": 39,
   "id": "6a8ff903-72ac-4033-98af-e277977b7b3b",
   "metadata": {},
   "outputs": [
    {
     "data": {
      "text/html": [
       "<div>\n",
       "<style scoped>\n",
       "    .dataframe tbody tr th:only-of-type {\n",
       "        vertical-align: middle;\n",
       "    }\n",
       "\n",
       "    .dataframe tbody tr th {\n",
       "        vertical-align: top;\n",
       "    }\n",
       "\n",
       "    .dataframe thead th {\n",
       "        text-align: right;\n",
       "    }\n",
       "</style>\n",
       "<table border=\"1\" class=\"dataframe\">\n",
       "  <thead>\n",
       "    <tr style=\"text-align: right;\">\n",
       "      <th></th>\n",
       "      <th>Code</th>\n",
       "      <th>Label</th>\n",
       "      <th>Year</th>\n",
       "      <th>Estimated resident population (no.)</th>\n",
       "      <th>Population density (persons/km2)</th>\n",
       "      <th>Estimated resident population - males (no.)</th>\n",
       "      <th>Estimated resident population - females (no.)</th>\n",
       "      <th>Median age - males (years)</th>\n",
       "      <th>Median age - females (years)</th>\n",
       "      <th>Median age - persons (years)</th>\n",
       "      <th>Working age population (aged 15-64 years) (no.)</th>\n",
       "      <th>Working age population (aged 15-64 years) (%)</th>\n",
       "    </tr>\n",
       "  </thead>\n",
       "  <tbody>\n",
       "    <tr>\n",
       "      <th>0</th>\n",
       "      <td>AUS</td>\n",
       "      <td>Australia</td>\n",
       "      <td>2011.0</td>\n",
       "      <td>-</td>\n",
       "      <td>-</td>\n",
       "      <td>-</td>\n",
       "      <td>-</td>\n",
       "      <td>-</td>\n",
       "      <td>-</td>\n",
       "      <td>-</td>\n",
       "      <td>-</td>\n",
       "      <td>-</td>\n",
       "    </tr>\n",
       "    <tr>\n",
       "      <th>1</th>\n",
       "      <td>AUS</td>\n",
       "      <td>Australia</td>\n",
       "      <td>2016.0</td>\n",
       "      <td>-</td>\n",
       "      <td>-</td>\n",
       "      <td>-</td>\n",
       "      <td>-</td>\n",
       "      <td>-</td>\n",
       "      <td>-</td>\n",
       "      <td>-</td>\n",
       "      <td>-</td>\n",
       "      <td>-</td>\n",
       "    </tr>\n",
       "    <tr>\n",
       "      <th>2</th>\n",
       "      <td>AUS</td>\n",
       "      <td>Australia</td>\n",
       "      <td>2018.0</td>\n",
       "      <td>-</td>\n",
       "      <td>-</td>\n",
       "      <td>-</td>\n",
       "      <td>-</td>\n",
       "      <td>-</td>\n",
       "      <td>-</td>\n",
       "      <td>-</td>\n",
       "      <td>-</td>\n",
       "      <td>-</td>\n",
       "    </tr>\n",
       "    <tr>\n",
       "      <th>3</th>\n",
       "      <td>AUS</td>\n",
       "      <td>Australia</td>\n",
       "      <td>2019.0</td>\n",
       "      <td>25334826</td>\n",
       "      <td>3.3</td>\n",
       "      <td>12577221</td>\n",
       "      <td>12757605</td>\n",
       "      <td>36.7</td>\n",
       "      <td>38.4</td>\n",
       "      <td>37.5</td>\n",
       "      <td>16570435</td>\n",
       "      <td>65.4</td>\n",
       "    </tr>\n",
       "    <tr>\n",
       "      <th>4</th>\n",
       "      <td>AUS</td>\n",
       "      <td>Australia</td>\n",
       "      <td>2020.0</td>\n",
       "      <td>25649248</td>\n",
       "      <td>3.3</td>\n",
       "      <td>12728639</td>\n",
       "      <td>12920609</td>\n",
       "      <td>37</td>\n",
       "      <td>38.7</td>\n",
       "      <td>37.9</td>\n",
       "      <td>16704135</td>\n",
       "      <td>65.1</td>\n",
       "    </tr>\n",
       "  </tbody>\n",
       "</table>\n",
       "</div>"
      ],
      "text/plain": [
       "  Code      Label    Year Estimated resident population (no.)  \\\n",
       "0  AUS  Australia  2011.0                                   -   \n",
       "1  AUS  Australia  2016.0                                   -   \n",
       "2  AUS  Australia  2018.0                                   -   \n",
       "3  AUS  Australia  2019.0                            25334826   \n",
       "4  AUS  Australia  2020.0                            25649248   \n",
       "\n",
       "  Population density (persons/km2)  \\\n",
       "0                                -   \n",
       "1                                -   \n",
       "2                                -   \n",
       "3                              3.3   \n",
       "4                              3.3   \n",
       "\n",
       "  Estimated resident population - males (no.)  \\\n",
       "0                                           -   \n",
       "1                                           -   \n",
       "2                                           -   \n",
       "3                                    12577221   \n",
       "4                                    12728639   \n",
       "\n",
       "  Estimated resident population - females (no.) Median age - males (years)  \\\n",
       "0                                             -                          -   \n",
       "1                                             -                          -   \n",
       "2                                             -                          -   \n",
       "3                                      12757605                       36.7   \n",
       "4                                      12920609                         37   \n",
       "\n",
       "  Median age - females (years) Median age - persons (years)  \\\n",
       "0                            -                            -   \n",
       "1                            -                            -   \n",
       "2                            -                            -   \n",
       "3                         38.4                         37.5   \n",
       "4                         38.7                         37.9   \n",
       "\n",
       "  Working age population (aged 15-64 years) (no.)  \\\n",
       "0                                               -   \n",
       "1                                               -   \n",
       "2                                               -   \n",
       "3                                        16570435   \n",
       "4                                        16704135   \n",
       "\n",
       "  Working age population (aged 15-64 years) (%)  \n",
       "0                                             -  \n",
       "1                                             -  \n",
       "2                                             -  \n",
       "3                                          65.4  \n",
       "4                                          65.1  "
      ]
     },
     "execution_count": 39,
     "metadata": {},
     "output_type": "execute_result"
    }
   ],
   "source": [
    "df = pd.read_excel(url, sheet_name=\"Table 1\", skiprows=6, usecols=\"A:C,D:L\")\n",
    "\n",
    "# check table\n",
    "df.head()"
   ]
  },
  {
   "cell_type": "code",
   "execution_count": null,
   "id": "4fc5b4a3-1658-45d3-a5f0-c3e9d046e9e1",
   "metadata": {},
   "outputs": [],
   "source": [
    "# clean column names\n",
    "df = clean_column_names(df)    \n",
    "df.columns"
   ]
  },
  {
   "cell_type": "code",
   "execution_count": null,
   "id": "7c47c736-f068-4dc0-9fcc-7d0c27eb88cb",
   "metadata": {},
   "outputs": [],
   "source": [
    "# convert data type\n",
    "df = convert_abs_datatype(df)\n",
    "print(df.dtypes)"
   ]
  },
  {
   "cell_type": "code",
   "execution_count": null,
   "id": "fd323930-1b67-4ec8-b840-d9e84658792f",
   "metadata": {},
   "outputs": [],
   "source": [
    "# adding geo_scope identifier\n",
    "df['geo_scope'] = 1\n",
    "df['geo_scope'] = df['geo_scope'].astype(int)"
   ]
  },
  {
   "cell_type": "code",
   "execution_count": null,
   "id": "3ecb0adf-dfa1-42f9-b112-4e122c1c9916",
   "metadata": {},
   "outputs": [],
   "source": [
    "# re-check table\n",
    "df.head()"
   ]
  },
  {
   "cell_type": "code",
   "execution_count": null,
   "id": "402e9692-eb8c-439b-a060-558801f1254b",
   "metadata": {},
   "outputs": [],
   "source": [
    "# store data to database\n",
    "df.to_sql(name=table_name, con=db_engine, if_exists='replace')"
   ]
  },
  {
   "cell_type": "code",
   "execution_count": null,
   "id": "d561b42f-bf5c-4f00-b30c-2a8461f5df05",
   "metadata": {},
   "outputs": [],
   "source": [
    "# the next stage will go through the same steps, to not repeating ourselves, we can use this function:\n",
    "\n",
    "def dump_data(sheet, skip_rows, use_cols, geo_scope, postgres_table_name, store_mode):\n",
    "    # read file\n",
    "    df = pd.read_excel(url, sheet_name=sheet, skiprows=skip_rows, usecols=use_cols)\n",
    "\n",
    "    # clean column names\n",
    "    df = clean_column_names(df)  \n",
    "\n",
    "    # convert data type\n",
    "    df = convert_abs_datatype(df)\n",
    "\n",
    "    # adding geo_scope identifier\n",
    "    df['geo_scope'] = geo_scope\n",
    "    df['geo_scope'] = df['geo_scope'].astype(int)\n",
    "\n",
    "    # store data to database\n",
    "    df.to_sql(name=postgres_table_name, con=db_engine, if_exists=store_mode)"
   ]
  },
  {
   "cell_type": "markdown",
   "id": "80cbe50b-24d8-47d0-baeb-049101160988",
   "metadata": {},
   "source": [
    "### 4.1.2. Table 2 and table 3"
   ]
  },
  {
   "cell_type": "code",
   "execution_count": null,
   "id": "0db4bd80-a8c8-4f03-b940-8dac9a1af053",
   "metadata": {},
   "outputs": [],
   "source": [
    "col_span=\"A:C,D:L\"\n",
    "dump_data(\"Table 2\", 6, col_span, 2, table_name, \"append\")\n",
    "dump_data(\"Table 3\", 6, col_span, 3, table_name, \"append\")"
   ]
  },
  {
   "cell_type": "markdown",
   "id": "b0f4e617-5d94-4b27-895b-89cc1102aa5c",
   "metadata": {},
   "source": [
    "## 4.2. Estimated resident population - Males - year ended 30 June"
   ]
  },
  {
   "cell_type": "code",
   "execution_count": null,
   "id": "73458e4c-e8dc-453e-9db3-eb2d2491b81e",
   "metadata": {},
   "outputs": [],
   "source": [
    "table_name = 'estimated_resident_population_males'\n",
    "col_span=\"A:C,M:AV\"\n",
    "\n",
    "# Table 1\n",
    "dump_data(\"Table 1\", 6, col_span, 1, table_name, \"replace\")\n",
    "# Table 2\n",
    "dump_data(\"Table 2\", 6, col_span, 2, table_name, \"append\")\n",
    "# Table 3\n",
    "dump_data(\"Table 3\", 6, col_span, 3, table_name, \"append\")"
   ]
  },
  {
   "cell_type": "markdown",
   "id": "99bdfc9c-86c5-4788-9d4d-eeb63420c3df",
   "metadata": {},
   "source": [
    "## 4.3 Estimated resident population - Females - year ended 30 June"
   ]
  },
  {
   "cell_type": "code",
   "execution_count": null,
   "id": "9199a326-bc2e-4849-90b6-c8ced60d5fec",
   "metadata": {},
   "outputs": [],
   "source": [
    "table_name = 'estimated_resident_population_females'\n",
    "col_span=\"A:C,AW:CF\"\n",
    "\n",
    "# Table 1\n",
    "dump_data(\"Table 1\", 6, col_span, 1, table_name, \"replace\")\n",
    "# Table 2\n",
    "dump_data(\"Table 2\", 6, col_span, 2, table_name, \"append\")\n",
    "# Table 3\n",
    "dump_data(\"Table 3\", 6, col_span, 3, table_name, \"append\")"
   ]
  },
  {
   "attachments": {},
   "cell_type": "markdown",
   "id": "2c7b7b30-28c2-4cf2-a7f2-27a77bc96f83",
   "metadata": {},
   "source": [
    "## 4.4 Estimated resident population - Persons - year ended 30 June"
   ]
  },
  {
   "cell_type": "code",
   "execution_count": null,
   "id": "4a01f5e6-f5c0-44c1-869f-1b834875d5f7",
   "metadata": {},
   "outputs": [],
   "source": [
    "table_name = 'estimated_resident_population_persons'\n",
    "col_span=\"A:C,CG:DP\"\n",
    "\n",
    "# Table 1\n",
    "dump_data(\"Table 1\", 6, col_span, 1, table_name, \"replace\")\n",
    "# Table 2\n",
    "dump_data(\"Table 2\", 6, col_span, 2, table_name, \"append\")\n",
    "# Table 3\n",
    "dump_data(\"Table 3\", 6, col_span, 3, table_name, \"append\")"
   ]
  },
  {
   "cell_type": "markdown",
   "id": "c210b972-46a0-4432-9a76-169e2db2572b",
   "metadata": {},
   "source": [
    "## 4.5. Births and deaths - year ended 31 December"
   ]
  },
  {
   "cell_type": "code",
   "execution_count": null,
   "id": "e24133ad-b602-414a-80ff-c8c8b1acb217",
   "metadata": {},
   "outputs": [],
   "source": [
    "table_name = 'births_and_deaths'\n",
    "col_span=\"A:C,DQ:DT\"\n",
    "\n",
    "# Table 1\n",
    "dump_data(\"Table 1\", 6, col_span, 1, table_name, \"replace\")\n",
    "# Table 2\n",
    "dump_data(\"Table 2\", 6, col_span, 2, table_name, \"append\")\n",
    "# Table 3\n",
    "dump_data(\"Table 3\", 6, col_span, 3, table_name, \"append\")"
   ]
  },
  {
   "cell_type": "markdown",
   "id": "c4f9dcfb-4327-4216-8eca-874fad9625a1",
   "metadata": {},
   "source": [
    "## 4.6. Internal and overseas migration - year ended 30 June"
   ]
  },
  {
   "cell_type": "code",
   "execution_count": null,
   "id": "bb04ce74-1686-4d3e-a3e3-9ae55fe8664c",
   "metadata": {},
   "outputs": [],
   "source": [
    "table_name = 'internal_and_overseas_migration'\n",
    "col_span=\"A:C,DU:DZ\"\n",
    "\n",
    "# Table 1\n",
    "dump_data(\"Table 1\", 6, col_span, 1, table_name, \"replace\")\n",
    "# Table 2\n",
    "dump_data(\"Table 2\", 6, col_span, 2, table_name, \"append\")"
   ]
  },
  {
   "cell_type": "markdown",
   "id": "1993dbfd-e928-4bbd-9e5c-474a99194fd2",
   "metadata": {},
   "source": [
    "## 4.7. Aboriginal and Torres Strait Islander Peoples - Census"
   ]
  },
  {
   "cell_type": "code",
   "execution_count": null,
   "id": "c33132aa-aea7-43da-9182-bb2810aa9577",
   "metadata": {},
   "outputs": [],
   "source": [
    "table_name = 'aboriginal_and_torres_strait_islander_peoples'\n",
    "col_span=\"A:C,EA:EB\"\n",
    "\n",
    "# Table 1\n",
    "dump_data(\"Table 1\", 6, col_span, 1, table_name, \"replace\")\n",
    "# Table 2\n",
    "dump_data(\"Table 2\", 6, col_span, 2, table_name, \"append\")"
   ]
  },
  {
   "cell_type": "markdown",
   "id": "0c351170-bafb-40ac-ac41-1187f75e7199",
   "metadata": {},
   "source": [
    "## 4.8. Overseas born population"
   ]
  },
  {
   "cell_type": "code",
   "execution_count": null,
   "id": "df6a3246-0ac7-4600-b0e1-3f99c487ec7a",
   "metadata": {},
   "outputs": [],
   "source": [
    "table_name = 'overseas_born_population'\n",
    "col_span=\"A:C,EC:EM\"\n",
    "\n",
    "# Table 1\n",
    "dump_data(\"Table 1\", 6, col_span, 1, table_name, \"replace\")\n",
    "# Table 2\n",
    "dump_data(\"Table 2\", 6, col_span, 2, table_name, \"append\")"
   ]
  },
  {
   "cell_type": "markdown",
   "id": "9a8cfe45-51f3-4a70-8f62-229932b9456d",
   "metadata": {},
   "source": [
    "## 4.9. Religious affiliation"
   ]
  },
  {
   "cell_type": "code",
   "execution_count": null,
   "id": "498659aa-ef67-4421-b627-2a97cbf7efaf",
   "metadata": {},
   "outputs": [],
   "source": [
    "table_name = 'religious_affiliation'\n",
    "col_span=\"A:C,EN:EU\"\n",
    "\n",
    "# Table 1\n",
    "dump_data(\"Table 1\", 6, col_span, 1, table_name, \"replace\")\n",
    "# Table 2\n",
    "dump_data(\"Table 2\", 6, col_span, 2, table_name, \"append\")"
   ]
  },
  {
   "cell_type": "markdown",
   "id": "6c9fea4c-f8da-4b85-aba0-6638eb634d2b",
   "metadata": {},
   "source": [
    "## 4.10. Australian citizenship"
   ]
  },
  {
   "cell_type": "code",
   "execution_count": null,
   "id": "6f6363ae-f02b-4718-8359-b255b69cf1ad",
   "metadata": {},
   "outputs": [],
   "source": [
    "table_name = 'australian_citizenship'\n",
    "col_span=\"A:C,EV:FA\"\n",
    "\n",
    "# Table 1\n",
    "dump_data(\"Table 1\", 6, col_span, 1, table_name, \"replace\")\n",
    "# Table 2\n",
    "dump_data(\"Table 2\", 6, col_span, 2, table_name, \"append\")"
   ]
  },
  {
   "cell_type": "markdown",
   "id": "7b9ea4d5-8187-41a2-bb63-a126264a921f",
   "metadata": {},
   "source": [
    "## 4.11. Speaks a language other than English at home"
   ]
  },
  {
   "cell_type": "code",
   "execution_count": null,
   "id": "eec70e2a-dec9-4244-9ab6-93af5f02c36a",
   "metadata": {},
   "outputs": [],
   "source": [
    "table_name = 'speaks_other_than_english_at_home'\n",
    "col_span=\"A:C,FB:FC\"\n",
    "\n",
    "# Table 1\n",
    "dump_data(\"Table 1\", 6, col_span, 1, table_name, \"replace\")\n",
    "# Table 2\n",
    "dump_data(\"Table 2\", 6, col_span, 2, table_name, \"append\")"
   ]
  },
  {
   "cell_type": "markdown",
   "id": "7dd847cc-1ace-4bcb-9020-9d847ca6182e",
   "metadata": {},
   "source": [
    "## 4.12. Australian Defence Force service - Persons aged 15 years and over"
   ]
  },
  {
   "cell_type": "code",
   "execution_count": null,
   "id": "4d6ed5cf-6465-48da-ad01-9fa9adf11130",
   "metadata": {},
   "outputs": [],
   "source": [
    "table_name = 'australian_defence_force_service'\n",
    "col_span=\"A:C,FD:FG\"\n",
    "\n",
    "# Table 1\n",
    "dump_data(\"Table 1\", 6, col_span, 1, table_name, \"replace\")\n",
    "# Table 2\n",
    "dump_data(\"Table 2\", 6, col_span, 2, table_name, \"append\")"
   ]
  },
  {
   "cell_type": "markdown",
   "id": "48b3c4c4",
   "metadata": {},
   "source": [
    "# 5. Data Augmentation"
   ]
  },
  {
   "cell_type": "code",
   "execution_count": null,
   "id": "52be2be9-0934-42f1-aea6-ddde5318b4ad",
   "metadata": {},
   "outputs": [],
   "source": [
    "# Function to return the latitude and longitude of the address using OpenStreetMap Nominatim API\n",
    "def geocode_osm(name, state, state_list=None, wait=1):\n",
    "    # Base URL for OpenStreetMap Nominatim API\n",
    "    base_url = 'https://nominatim.openstreetmap.org/search'\n",
    "    headers = {'User-Agent': 'COMP5339'}\n",
    "\n",
    "    # Try combinations of the address (name, state)\n",
    "    address_variants = [name, state]\n",
    "\n",
    "    for address in address_variants:\n",
    "        # Prepare the request parameters\n",
    "        params = {'q': address, 'format': 'json'}\n",
    "\n",
    "        t.sleep(wait)  # Delay to prevent overloading the service\n",
    "        # Make a GET request to the Nominatim API\n",
    "        response = requests.get(base_url, params=params, headers=headers)\n",
    "\n",
    "        # Check if the request was successful and if there are results\n",
    "        if response.status_code == 200:\n",
    "            data = response.json()\n",
    "            if data:  # If there's at least one result\n",
    "                # Extract latitude and longitude from the first result\n",
    "                lat = data[0]['lat']\n",
    "                lon = data[0]['lon']\n",
    "                return float(lat), float(lon)\n",
    "        \n",
    "        # If no valid location was found, continue with the next address combination\n",
    "    return None, None"
   ]
  },
  {
   "cell_type": "code",
   "execution_count": null,
   "id": "81a075bc",
   "metadata": {},
   "outputs": [
    {
     "data": {
      "text/html": [
       "<div>\n",
       "<style scoped>\n",
       "    .dataframe tbody tr th:only-of-type {\n",
       "        vertical-align: middle;\n",
       "    }\n",
       "\n",
       "    .dataframe tbody tr th {\n",
       "        vertical-align: top;\n",
       "    }\n",
       "\n",
       "    .dataframe thead th {\n",
       "        text-align: right;\n",
       "    }\n",
       "</style>\n",
       "<table border=\"1\" class=\"dataframe\">\n",
       "  <thead>\n",
       "    <tr style=\"text-align: right;\">\n",
       "      <th></th>\n",
       "      <th>index</th>\n",
       "      <th>accreditation_code</th>\n",
       "      <th>power_station_name</th>\n",
       "      <th>state</th>\n",
       "      <th>installed_capacity</th>\n",
       "      <th>postcode</th>\n",
       "      <th>fuel_sources</th>\n",
       "      <th>accreditation_start_date</th>\n",
       "      <th>suspension_status</th>\n",
       "      <th>baseline_mwh</th>\n",
       "      <th>comment</th>\n",
       "    </tr>\n",
       "  </thead>\n",
       "  <tbody>\n",
       "    <tr>\n",
       "      <th>0</th>\n",
       "      <td>0</td>\n",
       "      <td>SRPXQLG5</td>\n",
       "      <td>Varsity Views - Solar w SGU - QLD</td>\n",
       "      <td>QLD</td>\n",
       "      <td>0.2109</td>\n",
       "      <td>4227</td>\n",
       "      <td>Solar</td>\n",
       "      <td>2024-12-18</td>\n",
       "      <td>Unsuspended</td>\n",
       "      <td>0</td>\n",
       "      <td>None</td>\n",
       "    </tr>\n",
       "    <tr>\n",
       "      <th>1</th>\n",
       "      <td>1</td>\n",
       "      <td>SRPYNS51</td>\n",
       "      <td>NNSWLHD-Byron Central Hospital - Solar - NSW</td>\n",
       "      <td>NSW</td>\n",
       "      <td>0.7203</td>\n",
       "      <td>2481</td>\n",
       "      <td>Solar</td>\n",
       "      <td>2024-12-12</td>\n",
       "      <td>Unsuspended</td>\n",
       "      <td>0</td>\n",
       "      <td>None</td>\n",
       "    </tr>\n",
       "    <tr>\n",
       "      <th>2</th>\n",
       "      <td>2</td>\n",
       "      <td>SRPXQLG2</td>\n",
       "      <td>Springwood Terrace Care Community - Solar w SG...</td>\n",
       "      <td>QLD</td>\n",
       "      <td>0.1890</td>\n",
       "      <td>4127</td>\n",
       "      <td>Solar</td>\n",
       "      <td>2024-12-10</td>\n",
       "      <td>Unsuspended</td>\n",
       "      <td>0</td>\n",
       "      <td>None</td>\n",
       "    </tr>\n",
       "    <tr>\n",
       "      <th>3</th>\n",
       "      <td>3</td>\n",
       "      <td>SRPYNS45</td>\n",
       "      <td>Bunnings Bennetts Green - Solar - NSW</td>\n",
       "      <td>NSW</td>\n",
       "      <td>0.2800</td>\n",
       "      <td>2290</td>\n",
       "      <td>Solar</td>\n",
       "      <td>2024-12-03</td>\n",
       "      <td>Unsuspended</td>\n",
       "      <td>0</td>\n",
       "      <td>None</td>\n",
       "    </tr>\n",
       "    <tr>\n",
       "      <th>4</th>\n",
       "      <td>4</td>\n",
       "      <td>SRPYNS46</td>\n",
       "      <td>Tuggerah Home MSB1 254kW - Solar - NSW</td>\n",
       "      <td>NSW</td>\n",
       "      <td>0.2540</td>\n",
       "      <td>2259</td>\n",
       "      <td>Solar</td>\n",
       "      <td>2024-12-02</td>\n",
       "      <td>Unsuspended</td>\n",
       "      <td>0</td>\n",
       "      <td>None</td>\n",
       "    </tr>\n",
       "  </tbody>\n",
       "</table>\n",
       "</div>"
      ],
      "text/plain": [
       "   index accreditation_code  \\\n",
       "0      0           SRPXQLG5   \n",
       "1      1           SRPYNS51   \n",
       "2      2           SRPXQLG2   \n",
       "3      3           SRPYNS45   \n",
       "4      4           SRPYNS46   \n",
       "\n",
       "                                  power_station_name state  \\\n",
       "0                  Varsity Views - Solar w SGU - QLD   QLD   \n",
       "1       NNSWLHD-Byron Central Hospital - Solar - NSW   NSW   \n",
       "2  Springwood Terrace Care Community - Solar w SG...   QLD   \n",
       "3              Bunnings Bennetts Green - Solar - NSW   NSW   \n",
       "4             Tuggerah Home MSB1 254kW - Solar - NSW   NSW   \n",
       "\n",
       "   installed_capacity  postcode fuel_sources accreditation_start_date  \\\n",
       "0              0.2109      4227        Solar               2024-12-18   \n",
       "1              0.7203      2481        Solar               2024-12-12   \n",
       "2              0.1890      4127        Solar               2024-12-10   \n",
       "3              0.2800      2290        Solar               2024-12-03   \n",
       "4              0.2540      2259        Solar               2024-12-02   \n",
       "\n",
       "  suspension_status  baseline_mwh comment  \n",
       "0       Unsuspended             0    None  \n",
       "1       Unsuspended             0    None  \n",
       "2       Unsuspended             0    None  \n",
       "3       Unsuspended             0    None  \n",
       "4       Unsuspended             0    None  "
      ]
     },
     "execution_count": 4,
     "metadata": {},
     "output_type": "execute_result"
    }
   ],
   "source": [
    "# Query the table and load into DataFrame\n",
    "table_name = 'accredited_power_stations_data'\n",
    "query = f\"SELECT * FROM {table_name}\"\n",
    "\n",
    "# Access the power stations table using pandas\n",
    "power_station_df = pd.read_sql(query, con=db_engine)\n",
    "\n",
    "# Display the first few rows of the table\n",
    "power_station_df.head()"
   ]
  },
  {
   "cell_type": "code",
   "execution_count": null,
   "id": "49c1d15b",
   "metadata": {},
   "outputs": [],
   "source": [
    "test_df = power_station_df.head()\n",
    "\n",
    "# Apply geocode_osm to each row and unpack results into 'Latitude' and 'Longitude'\n",
    "test_df['Latitude'], test_df['Longitude'] = zip(*test_df.apply(lambda row: geocode_osm(row['power_station_name'], row['state']), axis=1))\n",
    "\n",
    "test_df.head()"
   ]
  },
  {
   "cell_type": "code",
   "execution_count": null,
   "id": "0a5e0418",
   "metadata": {},
   "outputs": [
    {
     "data": {
      "text/html": [
       "<div>\n",
       "<style scoped>\n",
       "    .dataframe tbody tr th:only-of-type {\n",
       "        vertical-align: middle;\n",
       "    }\n",
       "\n",
       "    .dataframe tbody tr th {\n",
       "        vertical-align: top;\n",
       "    }\n",
       "\n",
       "    .dataframe thead th {\n",
       "        text-align: right;\n",
       "    }\n",
       "</style>\n",
       "<table border=\"1\" class=\"dataframe\">\n",
       "  <thead>\n",
       "    <tr style=\"text-align: right;\">\n",
       "      <th></th>\n",
       "      <th>index</th>\n",
       "      <th>accreditation_code</th>\n",
       "      <th>power_station_name</th>\n",
       "      <th>state</th>\n",
       "      <th>installed_capacity</th>\n",
       "      <th>postcode</th>\n",
       "      <th>fuel_sources</th>\n",
       "      <th>accreditation_start_date</th>\n",
       "      <th>suspension_status</th>\n",
       "      <th>baseline_mwh</th>\n",
       "      <th>comment</th>\n",
       "      <th>Latitude</th>\n",
       "      <th>Longitude</th>\n",
       "    </tr>\n",
       "  </thead>\n",
       "  <tbody>\n",
       "    <tr>\n",
       "      <th>0</th>\n",
       "      <td>0</td>\n",
       "      <td>SRPXQLG5</td>\n",
       "      <td>Varsity Views - Solar w SGU - QLD</td>\n",
       "      <td>QLD</td>\n",
       "      <td>0.2109</td>\n",
       "      <td>4227</td>\n",
       "      <td>Solar</td>\n",
       "      <td>2024-12-18</td>\n",
       "      <td>Unsuspended</td>\n",
       "      <td>0</td>\n",
       "      <td>None</td>\n",
       "      <td>-22.164678</td>\n",
       "      <td>144.584490</td>\n",
       "    </tr>\n",
       "    <tr>\n",
       "      <th>1</th>\n",
       "      <td>1</td>\n",
       "      <td>SRPYNS51</td>\n",
       "      <td>NNSWLHD-Byron Central Hospital - Solar - NSW</td>\n",
       "      <td>NSW</td>\n",
       "      <td>0.7203</td>\n",
       "      <td>2481</td>\n",
       "      <td>Solar</td>\n",
       "      <td>2024-12-12</td>\n",
       "      <td>Unsuspended</td>\n",
       "      <td>0</td>\n",
       "      <td>None</td>\n",
       "      <td>-31.875984</td>\n",
       "      <td>147.286949</td>\n",
       "    </tr>\n",
       "    <tr>\n",
       "      <th>2</th>\n",
       "      <td>2</td>\n",
       "      <td>SRPXQLG2</td>\n",
       "      <td>Springwood Terrace Care Community - Solar w SG...</td>\n",
       "      <td>QLD</td>\n",
       "      <td>0.1890</td>\n",
       "      <td>4127</td>\n",
       "      <td>Solar</td>\n",
       "      <td>2024-12-10</td>\n",
       "      <td>Unsuspended</td>\n",
       "      <td>0</td>\n",
       "      <td>None</td>\n",
       "      <td>-22.164678</td>\n",
       "      <td>144.584490</td>\n",
       "    </tr>\n",
       "    <tr>\n",
       "      <th>3</th>\n",
       "      <td>3</td>\n",
       "      <td>SRPYNS45</td>\n",
       "      <td>Bunnings Bennetts Green - Solar - NSW</td>\n",
       "      <td>NSW</td>\n",
       "      <td>0.2800</td>\n",
       "      <td>2290</td>\n",
       "      <td>Solar</td>\n",
       "      <td>2024-12-03</td>\n",
       "      <td>Unsuspended</td>\n",
       "      <td>0</td>\n",
       "      <td>None</td>\n",
       "      <td>-31.875984</td>\n",
       "      <td>147.286949</td>\n",
       "    </tr>\n",
       "    <tr>\n",
       "      <th>4</th>\n",
       "      <td>4</td>\n",
       "      <td>SRPYNS46</td>\n",
       "      <td>Tuggerah Home MSB1 254kW - Solar - NSW</td>\n",
       "      <td>NSW</td>\n",
       "      <td>0.2540</td>\n",
       "      <td>2259</td>\n",
       "      <td>Solar</td>\n",
       "      <td>2024-12-02</td>\n",
       "      <td>Unsuspended</td>\n",
       "      <td>0</td>\n",
       "      <td>None</td>\n",
       "      <td>-31.875984</td>\n",
       "      <td>147.286949</td>\n",
       "    </tr>\n",
       "  </tbody>\n",
       "</table>\n",
       "</div>"
      ],
      "text/plain": [
       "   index accreditation_code  \\\n",
       "0      0           SRPXQLG5   \n",
       "1      1           SRPYNS51   \n",
       "2      2           SRPXQLG2   \n",
       "3      3           SRPYNS45   \n",
       "4      4           SRPYNS46   \n",
       "\n",
       "                                  power_station_name state  \\\n",
       "0                  Varsity Views - Solar w SGU - QLD   QLD   \n",
       "1       NNSWLHD-Byron Central Hospital - Solar - NSW   NSW   \n",
       "2  Springwood Terrace Care Community - Solar w SG...   QLD   \n",
       "3              Bunnings Bennetts Green - Solar - NSW   NSW   \n",
       "4             Tuggerah Home MSB1 254kW - Solar - NSW   NSW   \n",
       "\n",
       "   installed_capacity  postcode fuel_sources accreditation_start_date  \\\n",
       "0              0.2109      4227        Solar               2024-12-18   \n",
       "1              0.7203      2481        Solar               2024-12-12   \n",
       "2              0.1890      4127        Solar               2024-12-10   \n",
       "3              0.2800      2290        Solar               2024-12-03   \n",
       "4              0.2540      2259        Solar               2024-12-02   \n",
       "\n",
       "  suspension_status  baseline_mwh comment   Latitude   Longitude  \n",
       "0       Unsuspended             0    None -22.164678  144.584490  \n",
       "1       Unsuspended             0    None -31.875984  147.286949  \n",
       "2       Unsuspended             0    None -22.164678  144.584490  \n",
       "3       Unsuspended             0    None -31.875984  147.286949  \n",
       "4       Unsuspended             0    None -31.875984  147.286949  "
      ]
     },
     "execution_count": 7,
     "metadata": {},
     "output_type": "execute_result"
    }
   ],
   "source": [
    "# Apply geocode_osm to each row and unpack results into 'Latitude' and 'Longitude'\n",
    "power_station_df['Latitude'], power_station_df['Longitude'] = zip(*power_station_df.apply(lambda row: geocode_osm(row['power_station_name'], row['state']), axis=1))\n",
    "\n",
    "power_station_df.head()"
   ]
  },
  {
   "cell_type": "code",
   "execution_count": 10,
   "id": "574f16ff",
   "metadata": {},
   "outputs": [
    {
     "name": "stdout",
     "output_type": "stream",
     "text": [
      "PostGIS Version: POSTGIS=\"3.5.3 3.5.3\" [EXTENSION] PGSQL=\"170\" GEOS=\"3.13.1-CAPI-1.19.2\" PROJ=\"8.2.1 NETWORK_ENABLED=OFF URL_ENDPOINT= USER_WRITABLE_DIRECTORY=C:\\WINDOWS\\ServiceProfiles\\NetworkService\\AppData\\Local/proj\" (compiled against PROJ 8.2.1) LIBXML=\"2.12.5\" LIBJSON=\"0.12\" LIBPROTOBUF=\"1.2.1\" WAGYU=\"0.5.0 (Internal)\" TOPOLOGY\n"
     ]
    }
   ],
   "source": [
    "# Test connection and check PostGIS status using text() for SQL\n",
    "with db_engine.connect() as connection:\n",
    "    result = connection.execute(text(\"SELECT PostGIS_full_version();\"))\n",
    "    postgis_version = result.fetchone()\n",
    "    print(f\"PostGIS Version: {postgis_version[0]}\")"
   ]
  },
  {
   "cell_type": "code",
   "execution_count": null,
   "id": "97ec1edf",
   "metadata": {},
   "outputs": [
    {
     "data": {
      "text/html": [
       "<div>\n",
       "<style scoped>\n",
       "    .dataframe tbody tr th:only-of-type {\n",
       "        vertical-align: middle;\n",
       "    }\n",
       "\n",
       "    .dataframe tbody tr th {\n",
       "        vertical-align: top;\n",
       "    }\n",
       "\n",
       "    .dataframe thead th {\n",
       "        text-align: right;\n",
       "    }\n",
       "</style>\n",
       "<table border=\"1\" class=\"dataframe\">\n",
       "  <thead>\n",
       "    <tr style=\"text-align: right;\">\n",
       "      <th></th>\n",
       "      <th>index</th>\n",
       "      <th>accreditation_code</th>\n",
       "      <th>power_station_name</th>\n",
       "      <th>state</th>\n",
       "      <th>installed_capacity</th>\n",
       "      <th>postcode</th>\n",
       "      <th>fuel_sources</th>\n",
       "      <th>accreditation_start_date</th>\n",
       "      <th>suspension_status</th>\n",
       "      <th>baseline_mwh</th>\n",
       "      <th>comment</th>\n",
       "      <th>Latitude</th>\n",
       "      <th>Longitude</th>\n",
       "      <th>geom</th>\n",
       "    </tr>\n",
       "  </thead>\n",
       "  <tbody>\n",
       "    <tr>\n",
       "      <th>0</th>\n",
       "      <td>0</td>\n",
       "      <td>SRPXQLG5</td>\n",
       "      <td>Varsity Views - Solar w SGU - QLD</td>\n",
       "      <td>QLD</td>\n",
       "      <td>0.2109</td>\n",
       "      <td>4227</td>\n",
       "      <td>Solar</td>\n",
       "      <td>2024-12-18</td>\n",
       "      <td>Unsuspended</td>\n",
       "      <td>0</td>\n",
       "      <td>None</td>\n",
       "      <td>-22.164678</td>\n",
       "      <td>144.584490</td>\n",
       "      <td>POINT(144.5844903 -22.1646782)</td>\n",
       "    </tr>\n",
       "    <tr>\n",
       "      <th>1</th>\n",
       "      <td>1</td>\n",
       "      <td>SRPYNS51</td>\n",
       "      <td>NNSWLHD-Byron Central Hospital - Solar - NSW</td>\n",
       "      <td>NSW</td>\n",
       "      <td>0.7203</td>\n",
       "      <td>2481</td>\n",
       "      <td>Solar</td>\n",
       "      <td>2024-12-12</td>\n",
       "      <td>Unsuspended</td>\n",
       "      <td>0</td>\n",
       "      <td>None</td>\n",
       "      <td>-31.875984</td>\n",
       "      <td>147.286949</td>\n",
       "      <td>POINT(147.2869493 -31.8759835)</td>\n",
       "    </tr>\n",
       "    <tr>\n",
       "      <th>2</th>\n",
       "      <td>2</td>\n",
       "      <td>SRPXQLG2</td>\n",
       "      <td>Springwood Terrace Care Community - Solar w SG...</td>\n",
       "      <td>QLD</td>\n",
       "      <td>0.1890</td>\n",
       "      <td>4127</td>\n",
       "      <td>Solar</td>\n",
       "      <td>2024-12-10</td>\n",
       "      <td>Unsuspended</td>\n",
       "      <td>0</td>\n",
       "      <td>None</td>\n",
       "      <td>-22.164678</td>\n",
       "      <td>144.584490</td>\n",
       "      <td>POINT(144.5844903 -22.1646782)</td>\n",
       "    </tr>\n",
       "    <tr>\n",
       "      <th>3</th>\n",
       "      <td>3</td>\n",
       "      <td>SRPYNS45</td>\n",
       "      <td>Bunnings Bennetts Green - Solar - NSW</td>\n",
       "      <td>NSW</td>\n",
       "      <td>0.2800</td>\n",
       "      <td>2290</td>\n",
       "      <td>Solar</td>\n",
       "      <td>2024-12-03</td>\n",
       "      <td>Unsuspended</td>\n",
       "      <td>0</td>\n",
       "      <td>None</td>\n",
       "      <td>-31.875984</td>\n",
       "      <td>147.286949</td>\n",
       "      <td>POINT(147.2869493 -31.8759835)</td>\n",
       "    </tr>\n",
       "    <tr>\n",
       "      <th>4</th>\n",
       "      <td>4</td>\n",
       "      <td>SRPYNS46</td>\n",
       "      <td>Tuggerah Home MSB1 254kW - Solar - NSW</td>\n",
       "      <td>NSW</td>\n",
       "      <td>0.2540</td>\n",
       "      <td>2259</td>\n",
       "      <td>Solar</td>\n",
       "      <td>2024-12-02</td>\n",
       "      <td>Unsuspended</td>\n",
       "      <td>0</td>\n",
       "      <td>None</td>\n",
       "      <td>-31.875984</td>\n",
       "      <td>147.286949</td>\n",
       "      <td>POINT(147.2869493 -31.8759835)</td>\n",
       "    </tr>\n",
       "  </tbody>\n",
       "</table>\n",
       "</div>"
      ],
      "text/plain": [
       "   index accreditation_code  \\\n",
       "0      0           SRPXQLG5   \n",
       "1      1           SRPYNS51   \n",
       "2      2           SRPXQLG2   \n",
       "3      3           SRPYNS45   \n",
       "4      4           SRPYNS46   \n",
       "\n",
       "                                  power_station_name state  \\\n",
       "0                  Varsity Views - Solar w SGU - QLD   QLD   \n",
       "1       NNSWLHD-Byron Central Hospital - Solar - NSW   NSW   \n",
       "2  Springwood Terrace Care Community - Solar w SG...   QLD   \n",
       "3              Bunnings Bennetts Green - Solar - NSW   NSW   \n",
       "4             Tuggerah Home MSB1 254kW - Solar - NSW   NSW   \n",
       "\n",
       "   installed_capacity  postcode fuel_sources accreditation_start_date  \\\n",
       "0              0.2109      4227        Solar               2024-12-18   \n",
       "1              0.7203      2481        Solar               2024-12-12   \n",
       "2              0.1890      4127        Solar               2024-12-10   \n",
       "3              0.2800      2290        Solar               2024-12-03   \n",
       "4              0.2540      2259        Solar               2024-12-02   \n",
       "\n",
       "  suspension_status  baseline_mwh comment   Latitude   Longitude  \\\n",
       "0       Unsuspended             0    None -22.164678  144.584490   \n",
       "1       Unsuspended             0    None -31.875984  147.286949   \n",
       "2       Unsuspended             0    None -22.164678  144.584490   \n",
       "3       Unsuspended             0    None -31.875984  147.286949   \n",
       "4       Unsuspended             0    None -31.875984  147.286949   \n",
       "\n",
       "                             geom  \n",
       "0  POINT(144.5844903 -22.1646782)  \n",
       "1  POINT(147.2869493 -31.8759835)  \n",
       "2  POINT(144.5844903 -22.1646782)  \n",
       "3  POINT(147.2869493 -31.8759835)  \n",
       "4  POINT(147.2869493 -31.8759835)  "
      ]
     },
     "execution_count": 14,
     "metadata": {},
     "output_type": "execute_result"
    }
   ],
   "source": [
    "# Convert lat/lon to PostGIS Point\n",
    "power_station_df['geom'] = power_station_df.apply(\n",
    "    lambda row: WKTElement(f\"POINT({row['Longitude']} {row['Latitude']})\", srid=4326),\n",
    "    axis=1\n",
    ")\n",
    "\n",
    "power_station_df.head()"
   ]
  },
  {
   "cell_type": "code",
   "execution_count": null,
   "id": "579146a9",
   "metadata": {},
   "outputs": [
    {
     "data": {
      "text/plain": [
       "20"
      ]
     },
     "execution_count": 15,
     "metadata": {},
     "output_type": "execute_result"
    }
   ],
   "source": [
    "table_name = 'spatial_power_stations_data'\n",
    "\n",
    "# store data to database\n",
    "power_station_df.to_sql(name=table_name, con=db_engine, if_exists='replace', index=False, dtype={'geom': Geometry('POINT', srid=4326)})"
   ]
  },
  {
   "cell_type": "code",
   "execution_count": null,
   "id": "0500a7fa",
   "metadata": {},
   "outputs": [
    {
     "name": "stdout",
     "output_type": "stream",
     "text": [
      "                                  power_station_name  \\\n",
      "0                  Varsity Views - Solar w SGU - QLD   \n",
      "1       NNSWLHD-Byron Central Hospital - Solar - NSW   \n",
      "2  Springwood Terrace Care Community - Solar w SG...   \n",
      "3              Bunnings Bennetts Green - Solar - NSW   \n",
      "4             Tuggerah Home MSB1 254kW - Solar - NSW   \n",
      "\n",
      "                         geom_wkt  \n",
      "0  POINT(144.5844903 -22.1646782)  \n",
      "1  POINT(147.2869493 -31.8759835)  \n",
      "2  POINT(144.5844903 -22.1646782)  \n",
      "3  POINT(147.2869493 -31.8759835)  \n",
      "4  POINT(147.2869493 -31.8759835)  \n"
     ]
    }
   ],
   "source": [
    "# Check Postgis\n",
    "query = text(\"SELECT power_station_name, ST_AsText(geom) AS geom_wkt FROM spatial_power_stations_data LIMIT 5;\")\n",
    "df_check = pd.read_sql(query, con=db_engine)\n",
    "print(df_check)"
   ]
  },
  {
   "cell_type": "markdown",
   "id": "9f5718c5",
   "metadata": {},
   "source": [
    "# 6. PostgreSQL"
   ]
  }
 ],
 "metadata": {
  "kernelspec": {
   "display_name": "base",
   "language": "python",
   "name": "python3"
  },
  "language_info": {
   "codemirror_mode": {
    "name": "ipython",
    "version": 3
   },
   "file_extension": ".py",
   "mimetype": "text/x-python",
   "name": "python",
   "nbconvert_exporter": "python",
   "pygments_lexer": "ipython3",
   "version": "3.13.5"
  }
 },
 "nbformat": 4,
 "nbformat_minor": 5
}
