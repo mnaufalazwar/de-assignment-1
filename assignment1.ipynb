{
 "cells": [
  {
   "cell_type": "markdown",
   "id": "87439a19-b252-4cae-af75-634af1ef2b0d",
   "metadata": {},
   "source": [
    "# Import Dependencies"
   ]
  },
  {
   "cell_type": "code",
   "execution_count": 6,
   "id": "06220881-5a58-4202-8f38-43651a21837f",
   "metadata": {},
   "outputs": [],
   "source": [
    "from datetime import datetime\n",
    "from io import BytesIO\n",
    "from sqlalchemy import create_engine, inspect, text\n",
    "from time import time\n",
    "\n",
    "import json\n",
    "import locale\n",
    "import numpy as np\n",
    "import pandas as pd\n",
    "import requests\n",
    "\n",
    "import requests\n",
    "import time as t\n",
    "from geoalchemy2 import Geometry, WKTElement\n",
    "\n",
    "import warnings\n",
    "warnings.filterwarnings(\"ignore\")"
   ]
  },
  {
   "cell_type": "markdown",
   "id": "be690e41-a048-4b04-985c-f5fce794a302",
   "metadata": {},
   "source": [
    "# 1. Database setup"
   ]
  },
  {
   "cell_type": "markdown",
   "id": "634b87cc-aaec-4d55-8893-ee0b3a4facf2",
   "metadata": {},
   "source": [
    "Notes: put your postgresql configuration in the config.json file"
   ]
  },
  {
   "cell_type": "code",
   "execution_count": 10,
   "id": "c87faa07-03f3-4ed2-8a7c-608f1400f41b",
   "metadata": {},
   "outputs": [],
   "source": [
    "with open('config.json') as config:\n",
    "    db_config = json.load(config)\n",
    "\n",
    "db_user = db_config['DB_USER']\n",
    "db_password = db_config['DB_PASSWORD']\n",
    "db_host = db_config['DB_HOST']\n",
    "db_port = db_config['DB_PORT']\n",
    "db_name = db_config['DB_NAME']\n",
    "\n",
    "db_engine = create_engine(f'postgresql://{db_user}:{db_password}@{db_host}:{db_port}/{db_name}')\n",
    "gh_inspector = inspect(db_engine)"
   ]
  },
  {
   "cell_type": "markdown",
   "id": "8a60dd88-9e9c-48a5-88ad-fdb2d87f0c77",
   "metadata": {},
   "source": [
    "# 2. Dataset 1: Greenhouse and energy information by designated generation facility"
   ]
  },
  {
   "cell_type": "code",
   "execution_count": 3,
   "id": "968565d2-dcbd-4405-afc5-61aa5db50092",
   "metadata": {},
   "outputs": [],
   "source": [
    "gh_energy_data_facts = [\n",
    "    {\n",
    "        \"time_period_start\": datetime(2023, 1, 7),\n",
    "        \"time_period_stop\": datetime(2024, 6, 30),\n",
    "        \"dataset_id\": \"ID0243\"\n",
    "    },\n",
    "    {\n",
    "        \"time_period_start\": datetime(2022, 1, 7),\n",
    "        \"time_period_stop\": datetime(2023, 6, 30),\n",
    "        \"dataset_id\": \"ID0083\"\n",
    "    },\n",
    "    {\n",
    "        \"time_period_start\": datetime(2021, 1, 7),\n",
    "        \"time_period_stop\": datetime(2022, 6, 30),\n",
    "        \"dataset_id\": \"ID0082\"\n",
    "    },\n",
    "    {\n",
    "        \"time_period_start\": datetime(2020, 1, 7),\n",
    "        \"time_period_stop\": datetime(2021, 6, 30),\n",
    "        \"dataset_id\": \"ID0081\"\n",
    "    },\n",
    "    {\n",
    "        \"time_period_start\": datetime(2019, 1, 7),\n",
    "        \"time_period_stop\": datetime(2020, 6, 30),\n",
    "        \"dataset_id\": \"ID0080\"\n",
    "    },\n",
    "    {\n",
    "        \"time_period_start\": datetime(2018, 1, 7),\n",
    "        \"time_period_stop\": datetime(2019, 6, 30),\n",
    "        \"dataset_id\": \"ID0079\"\n",
    "    },\n",
    "    {\n",
    "        \"time_period_start\": datetime(2017, 1, 7),\n",
    "        \"time_period_stop\": datetime(2018, 6, 30),\n",
    "        \"dataset_id\": \"ID0078\"\n",
    "    },\n",
    "    {\n",
    "        \"time_period_start\": datetime(2016, 1, 7),\n",
    "        \"time_period_stop\": datetime(2017, 6, 30),\n",
    "        \"dataset_id\": \"ID0077\"\n",
    "    },\n",
    "    {\n",
    "        \"time_period_start\": datetime(2015, 1, 7),\n",
    "        \"time_period_stop\": datetime(2016, 6, 30),\n",
    "        \"dataset_id\": \"ID0076\"\n",
    "    },\n",
    "    {\n",
    "        \"time_period_start\": datetime(2014, 1, 7),\n",
    "        \"time_period_stop\": datetime(2015, 6, 30),\n",
    "        \"dataset_id\": \"ID0075\"\n",
    "    }\n",
    "]\n",
    "\n",
    "gh_energy_table_name = \"greenhouse_and_energy\"\n",
    "\n",
    "gh_energy_column_aliases = [\n",
    "    {\"reporting_entity\": [\"reportingentity\", \"reportingEntity\", \"controllingcorporation\"]},\n",
    "    {\"facility_name\" : [\"facilityname\", \"facilityName\"]},\n",
    "    {\"type\": [\"type\"]},\n",
    "    {\"state\": [\"state\"]},\n",
    "    {\"electricity_production_gj\": [\"electricityproductionGJ\", \"electricityProductionGJ\"]},\n",
    "    {\"electricity_production_mwh\" :[\"electricityproductionMWh\", \"electricityProductionMWh\", \"electricityProductionMwh\"]},\n",
    "    {\"total_scope_1_emissions_t_co2_e\": [\"totalscope1emissionstCO2e\", \"totalScope1EmissionstCO2e\", \"scope1tCO2e\"]},\n",
    "    {\"total_scope_2_emissions_t_co2_e\": [\"totalscope2emissionstCO2e\", \"totalScope2EmissionstCO2e\", \"totalScope2EmissionstCO2e2\", \"scope2tCO2e\"]},\n",
    "    {\"total_emissions_t_co2_e\": [\"totalemissionstCO2e\", \"totalEmissionstCO2e\"]},\n",
    "    {\"emission_intensity_t_co2_emwh\": [\"emissionintensitytCO2eMWh\", \"emissionIntensitytCO2eMWh\", \"emissionIntensitytMwh\"]},\n",
    "    {\"grid_connected\": [\"gridconnected\", \"gridConnected\", \"gridConnected2\"]},\n",
    "    {\"grid\": [\"grid\"]},\n",
    "    {\"primary_fuel\": [\"primaryfuel\", \"primaryFuel\"]},\n",
    "    {\"important_notes\": [\"importantnotes\", \"importantNotes\"]},\n",
    "    {\"time_period_start\": [\"time_period_start\"]},\n",
    "    {\"time_period_stop\": [\"time_period_stop\"]},\n",
    "    {\"dataset_id\": [\"dataset_id\"]} \n",
    "]"
   ]
  },
  {
   "cell_type": "code",
   "execution_count": null,
   "id": "f3e7595c-893b-4161-9f66-411995097f4a",
   "metadata": {},
   "outputs": [],
   "source": [
    "def standardize_column_name(df, col_name_aliases):\n",
    "    col_names = df.columns.tolist()\n",
    "    col_map = {}\n",
    "\n",
    "    for col in col_names:\n",
    "        for alias_dict in col_name_aliases:\n",
    "            alias = list(alias_dict.values())[0]\n",
    "            if col in alias:\n",
    "                col_map[col] = list(alias_dict.keys())[0]\n",
    "                break\n",
    "\n",
    "    return df.rename(columns=col_map)\n",
    "\n",
    "total_row_inserted = 0\n",
    "for index, fact in enumerate(gh_energy_data_facts):\n",
    "    # read csv\n",
    "    dataset_id = fact['dataset_id']\n",
    "    url = f'https://api.cer.gov.au/datahub-public/v1/api/ODataDataset/NGER/dataset/{dataset_id}?select%3D%2A'\n",
    "    response = requests.get(url)\n",
    "    df = pd.DataFrame(response.json())\n",
    "\n",
    "    # standardize column name\n",
    "    df = standardize_column_name(df, gh_energy_column_aliases)\n",
    "\n",
    "    # add columns: time_period, dataset_id\n",
    "    df['time_period_start'] = fact['time_period_start']\n",
    "    df['time_period_stop'] = fact['time_period_stop']\n",
    "    df['dataset_id'] = fact['dataset_id']\n",
    "\n",
    "    if index == 0:\n",
    "        # Generate the CREATE TABLE statement\n",
    "        create_table_statement = pd.io.sql.get_schema(df, gh_energy_table_name)\n",
    "        \n",
    "        # Print the generated statement\n",
    "        print(create_table_statement)\n",
    "\n",
    "        # Create table\n",
    "        df.head(n=0).to_sql(name=gh_energy_table_name, con=db_engine, if_exists='replace')\n",
    "    \n",
    "    print(f'inserting table {fact['dataset_id']}...')\n",
    "    t_start = time()\n",
    "    df.to_sql(name=gh_energy_table_name, con=db_engine, if_exists='append')\n",
    "    t_end = time()\n",
    "    print(f'inserted table {fact['dataset_id']} in {t_end-t_start:10.3f} seconds')\n",
    "    total_row_inserted = total_row_inserted + len(df)\n",
    "    print(f'{total_row_inserted} rows inserted')\n",
    "        "
   ]
  },
  {
   "cell_type": "markdown",
   "id": "b94ef65a-55d7-45bb-a3c5-d5da01eda580",
   "metadata": {},
   "source": [
    "# 3. Dataset 2: Large-scale renewable energy data"
   ]
  },
  {
   "cell_type": "markdown",
   "id": "aa93998d-a4e2-46d8-baf3-61accf0aab26",
   "metadata": {},
   "source": [
    "## 3.1. 2001–2024 Accredited power stations data"
   ]
  },
  {
   "cell_type": "code",
   "execution_count": null,
   "id": "437643c3-ea7e-4157-9e45-3057ae8341f2",
   "metadata": {},
   "outputs": [],
   "source": [
    "url = \"https://cer.gov.au/document/historical-accredited-power-stations-and-projects-0\"\n",
    "df = pd.read_csv(url, encoding='ISO-8859-1')\n",
    "df.head()"
   ]
  },
  {
   "cell_type": "code",
   "execution_count": null,
   "id": "bdf4d8eb-0421-46b7-b05c-2258537a169d",
   "metadata": {},
   "outputs": [],
   "source": [
    "# Rename column names\n",
    "df = df.rename(columns={\n",
    "    'Accreditation code': 'accreditation_code',\n",
    "    'Power station name': 'power_station_name',\n",
    "    'State': 'state',\n",
    "    'Installed capacity': 'installed_capacity',\n",
    "    'Postcode': 'postcode',\n",
    "    'Fuel source(s)': 'fuel_sources',\n",
    "    'Accreditation start date': 'accreditation_start_date',\n",
    "    'Suspension status': 'suspension_status',\n",
    "    'Baseline (MWh)': 'baseline_mwh',\n",
    "    'Comment': 'comment' \n",
    "})\n",
    "df.columns"
   ]
  },
  {
   "cell_type": "code",
   "execution_count": null,
   "id": "7f997d74-34d8-45a2-afec-9254547d805a",
   "metadata": {},
   "outputs": [],
   "source": [
    "# check data types\n",
    "print(df.dtypes)"
   ]
  },
  {
   "cell_type": "code",
   "execution_count": null,
   "id": "50bfc9c2-0cba-42be-92b8-04b0f129252d",
   "metadata": {},
   "outputs": [],
   "source": [
    "# convert data types\n",
    "\n",
    "locale.setlocale(locale.LC_ALL, 'en_US.UTF-8')\n",
    "df['baseline_mwh'] = df['baseline_mwh'].apply(lambda x: locale.atoi(str(x)) if isinstance(x, str) else x)\n",
    "\n",
    "df['accreditation_start_date'] = pd.to_datetime(df['accreditation_start_date'], format='%d/%m/%Y')"
   ]
  },
  {
   "cell_type": "code",
   "execution_count": null,
   "id": "75211ec3-16a0-47c5-8d71-c52f52903919",
   "metadata": {},
   "outputs": [],
   "source": [
    "# save to database\n",
    "table_name='accredited_power_stations_data'\n",
    "df.to_sql(name=table_name, con=db_engine, if_exists='replace')"
   ]
  },
  {
   "cell_type": "markdown",
   "id": "6545ce10-8ad9-43e0-a1d4-923a0ff87482",
   "metadata": {},
   "source": [
    "## 3.2. 2024 total LGCs and capacity of accredited power stations"
   ]
  },
  {
   "cell_type": "code",
   "execution_count": null,
   "id": "60ceb4cd-b0ab-4443-aad9-a2ac99f8b386",
   "metadata": {},
   "outputs": [],
   "source": [
    "url = \"https://cer.gov.au/document/total-lgcs-and-capacity-accredited-power-stations-2024\"\n",
    "df = pd.read_csv(url, encoding='ISO-8859-1')\n",
    "df.head()"
   ]
  },
  {
   "cell_type": "code",
   "execution_count": null,
   "id": "5e2230c3-05da-4ba4-b9b8-04b0e62036b1",
   "metadata": {},
   "outputs": [],
   "source": [
    "# Rename column names\n",
    "df = df.rename(columns={\n",
    "    'Total LGCs in the REC Registry': 'total_lgcs_in_the_rec_registry',\n",
    "    'MW of approved power stations (since 1 Jan 2024)': 'mw_of_approved_power_stations_since_1_jan_2024',\n",
    "    'Approved power stations (since 1 Jan 2024)': 'approved_power_stations_since_1_jan_2024',\n",
    "    'As at': 'as_at'\n",
    "})\n",
    "df.columns"
   ]
  },
  {
   "cell_type": "code",
   "execution_count": null,
   "id": "71b30dcc-af29-418c-8f1e-32fb0626f527",
   "metadata": {},
   "outputs": [],
   "source": [
    "# check data types\n",
    "print(df.dtypes)"
   ]
  },
  {
   "cell_type": "code",
   "execution_count": null,
   "id": "ad404614-9161-42ab-ab44-144dcbd82648",
   "metadata": {},
   "outputs": [],
   "source": [
    "# convert data types\n",
    "\n",
    "locale.setlocale(locale.LC_ALL, 'en_US.UTF-8')\n",
    "df['mw_of_approved_power_stations_since_1_jan_2024'] = df['mw_of_approved_power_stations_since_1_jan_2024'].apply(lambda x: locale.atof(str(x)) if isinstance(x, str) else x)\n",
    "\n",
    "df['as_at'] = pd.to_datetime(df['as_at'], format='%d/%m/%Y')"
   ]
  },
  {
   "cell_type": "code",
   "execution_count": null,
   "id": "6721c8d1-ce93-4194-94ce-d932757f6e46",
   "metadata": {},
   "outputs": [],
   "source": [
    "# save to database\n",
    "table_name='total_lgcs_and_capacity_of_accredited_power_stations'\n",
    "df.to_sql(name=table_name, con=db_engine, if_exists='replace')"
   ]
  },
  {
   "cell_type": "markdown",
   "id": "359a6dd0-d244-4e63-bc98-8f4c620950bc",
   "metadata": {},
   "source": [
    "## 3.3. Committed power stations"
   ]
  },
  {
   "cell_type": "code",
   "execution_count": 12,
   "id": "63b20dfc-6b6b-4ce9-88f4-8b916db45beb",
   "metadata": {},
   "outputs": [
    {
     "data": {
      "text/html": [
       "<div>\n",
       "<style scoped>\n",
       "    .dataframe tbody tr th:only-of-type {\n",
       "        vertical-align: middle;\n",
       "    }\n",
       "\n",
       "    .dataframe tbody tr th {\n",
       "        vertical-align: top;\n",
       "    }\n",
       "\n",
       "    .dataframe thead th {\n",
       "        text-align: right;\n",
       "    }\n",
       "</style>\n",
       "<table border=\"1\" class=\"dataframe\">\n",
       "  <thead>\n",
       "    <tr style=\"text-align: right;\">\n",
       "      <th></th>\n",
       "      <th>Project Name</th>\n",
       "      <th>State</th>\n",
       "      <th>MW Capacity</th>\n",
       "      <th>Fuel Source</th>\n",
       "      <th>Committed Date (Month/Year)</th>\n",
       "    </tr>\n",
       "  </thead>\n",
       "  <tbody>\n",
       "    <tr>\n",
       "      <th>0</th>\n",
       "      <td>East Rockingham Resource Recovery Facility</td>\n",
       "      <td>WA</td>\n",
       "      <td>29.0</td>\n",
       "      <td>Biomass</td>\n",
       "      <td>Dec-2019</td>\n",
       "    </tr>\n",
       "    <tr>\n",
       "      <th>1</th>\n",
       "      <td>Mangalore Renewable Energy Project</td>\n",
       "      <td>VIC</td>\n",
       "      <td>5.0</td>\n",
       "      <td>Solar</td>\n",
       "      <td>Sep-2021</td>\n",
       "    </tr>\n",
       "    <tr>\n",
       "      <th>2</th>\n",
       "      <td>Orange Community Renewable Energy Park</td>\n",
       "      <td>NSW</td>\n",
       "      <td>5.0</td>\n",
       "      <td>Solar</td>\n",
       "      <td>Jul-2022</td>\n",
       "    </tr>\n",
       "    <tr>\n",
       "      <th>3</th>\n",
       "      <td>Moorebank Logistics Park</td>\n",
       "      <td>NSW</td>\n",
       "      <td>60.0</td>\n",
       "      <td>Solar</td>\n",
       "      <td>Sep-2022</td>\n",
       "    </tr>\n",
       "    <tr>\n",
       "      <th>4</th>\n",
       "      <td>Wangaratta Solar Farm</td>\n",
       "      <td>VIC</td>\n",
       "      <td>40.0</td>\n",
       "      <td>Solar</td>\n",
       "      <td>Jul-2023</td>\n",
       "    </tr>\n",
       "  </tbody>\n",
       "</table>\n",
       "</div>"
      ],
      "text/plain": [
       "                                 Project Name State   MW Capacity Fuel Source  \\\n",
       "0  East Rockingham Resource Recovery Facility     WA         29.0     Biomass   \n",
       "1          Mangalore Renewable Energy Project    VIC          5.0       Solar   \n",
       "2      Orange Community Renewable Energy Park    NSW          5.0       Solar   \n",
       "3                    Moorebank Logistics Park    NSW         60.0       Solar   \n",
       "4                       Wangaratta Solar Farm    VIC         40.0       Solar   \n",
       "\n",
       "  Committed Date (Month/Year)  \n",
       "0                    Dec-2019  \n",
       "1                    Sep-2021  \n",
       "2                    Jul-2022  \n",
       "3                    Sep-2022  \n",
       "4                    Jul-2023  "
      ]
     },
     "execution_count": 12,
     "metadata": {},
     "output_type": "execute_result"
    }
   ],
   "source": [
    "url = \"https://cer.gov.au/document/power-stations-and-projects-committed\"\n",
    "df = pd.read_csv(url, encoding='ISO-8859-1')\n",
    "df.head()"
   ]
  },
  {
   "cell_type": "code",
   "execution_count": 16,
   "id": "6c902ded-61bc-4335-a3bd-27c5da3d7797",
   "metadata": {},
   "outputs": [
    {
     "data": {
      "text/plain": [
       "Index(['project_name', 'state', 'mw_capacity', 'fuel_source',\n",
       "       'committed_date'],\n",
       "      dtype='object')"
      ]
     },
     "execution_count": 16,
     "metadata": {},
     "output_type": "execute_result"
    }
   ],
   "source": [
    "# Rename column names\n",
    "df = df.rename(columns={\n",
    "    'Project Name': 'project_name',\n",
    "    'State ': 'state',\n",
    "    'MW Capacity': 'mw_capacity',\n",
    "    'Fuel Source': 'fuel_source',\n",
    "    'Committed Date (Month/Year)': 'committed_date'\n",
    "})\n",
    "df.columns"
   ]
  },
  {
   "cell_type": "code",
   "execution_count": 22,
   "id": "6e207c8a-1b24-4423-b6b2-6cee17e6d12c",
   "metadata": {},
   "outputs": [
    {
     "name": "stdout",
     "output_type": "stream",
     "text": [
      "project_name              object\n",
      "state                     object\n",
      "mw_capacity              float64\n",
      "fuel_source               object\n",
      "committed_date    datetime64[ns]\n",
      "dtype: object\n"
     ]
    }
   ],
   "source": [
    "# check data types\n",
    "print(df.dtypes)"
   ]
  },
  {
   "cell_type": "code",
   "execution_count": 20,
   "id": "e17263cf-b9ee-4779-aac1-f7899119bdc8",
   "metadata": {},
   "outputs": [],
   "source": [
    "# convert data types\n",
    "df[\"committed_date\"] = pd.to_datetime(df[\"committed_date\"], format=\"%b-%Y\")"
   ]
  },
  {
   "cell_type": "code",
   "execution_count": 24,
   "id": "dae11d0d-e1f0-4847-b0a7-8cd0a150c3d0",
   "metadata": {},
   "outputs": [
    {
     "data": {
      "text/plain": [
       "35"
      ]
     },
     "execution_count": 24,
     "metadata": {},
     "output_type": "execute_result"
    }
   ],
   "source": [
    "# save to database\n",
    "table_name='committed_power_stations'\n",
    "df.to_sql(name=table_name, con=db_engine, if_exists='replace')"
   ]
  },
  {
   "cell_type": "code",
   "execution_count": null,
   "id": "8cfc2401-2783-47be-90e0-90e71dd1473e",
   "metadata": {},
   "outputs": [],
   "source": [
    "## 3.4. Probable power stations"
   ]
  },
  {
   "cell_type": "code",
   "execution_count": 26,
   "id": "0e0ef466-90f0-4f01-8312-f34275eb2df1",
   "metadata": {},
   "outputs": [
    {
     "data": {
      "text/html": [
       "<div>\n",
       "<style scoped>\n",
       "    .dataframe tbody tr th:only-of-type {\n",
       "        vertical-align: middle;\n",
       "    }\n",
       "\n",
       "    .dataframe tbody tr th {\n",
       "        vertical-align: top;\n",
       "    }\n",
       "\n",
       "    .dataframe thead th {\n",
       "        text-align: right;\n",
       "    }\n",
       "</style>\n",
       "<table border=\"1\" class=\"dataframe\">\n",
       "  <thead>\n",
       "    <tr style=\"text-align: right;\">\n",
       "      <th></th>\n",
       "      <th>Project Name</th>\n",
       "      <th>State</th>\n",
       "      <th>MW Capacity</th>\n",
       "      <th>Fuel Source</th>\n",
       "    </tr>\n",
       "  </thead>\n",
       "  <tbody>\n",
       "    <tr>\n",
       "      <th>0</th>\n",
       "      <td>Barnawartha Solar Farm</td>\n",
       "      <td>VIC</td>\n",
       "      <td>64.0</td>\n",
       "      <td>Solar</td>\n",
       "    </tr>\n",
       "    <tr>\n",
       "      <th>1</th>\n",
       "      <td>Barwon solar farm</td>\n",
       "      <td>VIC</td>\n",
       "      <td>250.0</td>\n",
       "      <td>Solar</td>\n",
       "    </tr>\n",
       "    <tr>\n",
       "      <th>2</th>\n",
       "      <td>Boddington Giga Energy</td>\n",
       "      <td>WA</td>\n",
       "      <td>400.0</td>\n",
       "      <td>Solar</td>\n",
       "    </tr>\n",
       "    <tr>\n",
       "      <th>3</th>\n",
       "      <td>Bulli Creek Solar project Stage 1</td>\n",
       "      <td>QLD</td>\n",
       "      <td>775.0</td>\n",
       "      <td>Solar</td>\n",
       "    </tr>\n",
       "    <tr>\n",
       "      <th>4</th>\n",
       "      <td>Bullyard Solar Farm</td>\n",
       "      <td>QLD</td>\n",
       "      <td>100.0</td>\n",
       "      <td>Solar</td>\n",
       "    </tr>\n",
       "  </tbody>\n",
       "</table>\n",
       "</div>"
      ],
      "text/plain": [
       "                        Project Name State   MW Capacity Fuel Source\n",
       "0             Barnawartha Solar Farm    VIC         64.0       Solar\n",
       "1                  Barwon solar farm    VIC        250.0       Solar\n",
       "2             Boddington Giga Energy     WA        400.0       Solar\n",
       "3  Bulli Creek Solar project Stage 1    QLD        775.0       Solar\n",
       "4                Bullyard Solar Farm    QLD        100.0       Solar"
      ]
     },
     "execution_count": 26,
     "metadata": {},
     "output_type": "execute_result"
    }
   ],
   "source": [
    "url = \"https://cer.gov.au/document/power-stations-and-projects-probable\"\n",
    "df = pd.read_csv(url, encoding='ISO-8859-1')\n",
    "df.head()"
   ]
  },
  {
   "cell_type": "code",
   "execution_count": 30,
   "id": "70fa263e-eabd-4e07-b609-b410b47dca92",
   "metadata": {},
   "outputs": [
    {
     "data": {
      "text/plain": [
       "Index(['project_name', 'state', 'mw_capacity', 'fuel_source'], dtype='object')"
      ]
     },
     "execution_count": 30,
     "metadata": {},
     "output_type": "execute_result"
    }
   ],
   "source": [
    "# Rename column names\n",
    "df = df.rename(columns={\n",
    "    'Project Name': 'project_name',\n",
    "    'State ': 'state',\n",
    "    'MW Capacity': 'mw_capacity',\n",
    "    'Fuel Source': 'fuel_source',\n",
    "})\n",
    "df.columns"
   ]
  },
  {
   "cell_type": "code",
   "execution_count": 32,
   "id": "eeeff520-3f40-45c2-a448-537a35d050b6",
   "metadata": {},
   "outputs": [
    {
     "name": "stdout",
     "output_type": "stream",
     "text": [
      "project_name     object\n",
      "state            object\n",
      "mw_capacity     float64\n",
      "fuel_source      object\n",
      "dtype: object\n"
     ]
    }
   ],
   "source": [
    "# check data types\n",
    "print(df.dtypes)"
   ]
  },
  {
   "cell_type": "code",
   "execution_count": 34,
   "id": "aabec941-aea7-4b0c-aa05-b701a023a45c",
   "metadata": {},
   "outputs": [
    {
     "data": {
      "text/plain": [
       "49"
      ]
     },
     "execution_count": 34,
     "metadata": {},
     "output_type": "execute_result"
    }
   ],
   "source": [
    "# save to database\n",
    "table_name='probable_power_stations'\n",
    "df.to_sql(name=table_name, con=db_engine, if_exists='replace')"
   ]
  },
  {
   "cell_type": "markdown",
   "id": "ce3ffa68-2d12-4e95-a8ff-3255613ef506",
   "metadata": {},
   "source": [
    "# 4. Dataset 3:  Australian Bureau of Statistic Data"
   ]
  },
  {
   "cell_type": "code",
   "execution_count": null,
   "id": "486aac5b-16c5-40a6-9453-cce35358c597",
   "metadata": {},
   "outputs": [],
   "source": [
    "# base url for the data file\n",
    "\n",
    "url = \"https://www.abs.gov.au/methodologies/data-region-methodology/2011-24/14100DO0001_2011-24.xlsx\""
   ]
  },
  {
   "cell_type": "code",
   "execution_count": null,
   "id": "37729cfc-2567-4e35-a084-0564c286956f",
   "metadata": {},
   "outputs": [],
   "source": [
    "# function to clean column names\n",
    "\n",
    "def clean_column_names(df):\n",
    "    # Clean the column names\n",
    "    df.columns = df.columns.str.lower()  # Convert to lowercase\n",
    "    df.columns = df.columns.str.replace(' ', '_')  # Replace spaces with underscores\n",
    "    df.columns = df.columns.str.replace('-', '_')  # Replace dash with underscores\n",
    "    df.columns = df.columns.str.replace('no.', 'integer')  # Replace dash with underscores\n",
    "    df.columns = df.columns.str.replace('%', 'pct')  # Replace % with 'pct'\n",
    "    df.columns = df.columns.str.replace('[^a-z0-9_]', '', regex=True)  # Remove special characters\n",
    "    return df"
   ]
  },
  {
   "cell_type": "code",
   "execution_count": null,
   "id": "11b6b8b7-5e74-4aa1-abac-b0c56a48f277",
   "metadata": {},
   "outputs": [],
   "source": [
    "# function to convert data types\n",
    "\n",
    "def convert_abs_datatype(df):\n",
    "    locale.setlocale(locale.LC_ALL, 'fr_FR.UTF-8')\n",
    "    \n",
    "    unchanged_col = [\"code\", \"label\", \"year\"]\n",
    "    \n",
    "    # Opt-in to the future behavior of replace\n",
    "    pd.set_option('future.no_silent_downcasting', True)\n",
    "    \n",
    "    for col in list(df.columns):\n",
    "        if col not in unchanged_col:\n",
    "            if \"integer\" in col:\n",
    "                df[col] = df[col].replace('-', np.nan)\n",
    "                df[col] = df[col].apply(lambda x: locale.atoi(str(x)) if isinstance(x, str) else x)\n",
    "                df[col] = df[col].astype(\"Int64\")\n",
    "            else:\n",
    "                df[col] = df[col].replace('-', np.nan)\n",
    "                df[col] = df[col].apply(lambda x: locale.atof(str(x)) if isinstance(x, str) else x)\n",
    "    return df"
   ]
  },
  {
   "cell_type": "markdown",
   "id": "7b3581bd-7405-42e1-88de-3234a0cff8f9",
   "metadata": {},
   "source": [
    "## 4.1. Estimated resident population - year ended 30 June"
   ]
  },
  {
   "cell_type": "code",
   "execution_count": null,
   "id": "b545cdaf-1005-4e3d-b265-25230c9b2333",
   "metadata": {},
   "outputs": [],
   "source": [
    "table_name = 'estimated_resident_population'"
   ]
  },
  {
   "cell_type": "markdown",
   "id": "816f8bf2-720d-4ab1-80e3-0471a0f42756",
   "metadata": {},
   "source": [
    "### 4.1.1. Table 1 (For exploratory)"
   ]
  },
  {
   "cell_type": "code",
   "execution_count": null,
   "id": "6a8ff903-72ac-4033-98af-e277977b7b3b",
   "metadata": {},
   "outputs": [],
   "source": [
    "df = pd.read_excel(url, sheet_name=\"Table 1\", skiprows=6, usecols=\"A:C,D:L\")\n",
    "\n",
    "# check table\n",
    "df.head()"
   ]
  },
  {
   "cell_type": "code",
   "execution_count": null,
   "id": "4fc5b4a3-1658-45d3-a5f0-c3e9d046e9e1",
   "metadata": {},
   "outputs": [],
   "source": [
    "# clean column names\n",
    "df = clean_column_names(df)    \n",
    "df.columns"
   ]
  },
  {
   "cell_type": "code",
   "execution_count": null,
   "id": "7c47c736-f068-4dc0-9fcc-7d0c27eb88cb",
   "metadata": {},
   "outputs": [],
   "source": [
    "# convert data type\n",
    "df = convert_abs_datatype(df)\n",
    "print(df.dtypes)"
   ]
  },
  {
   "cell_type": "code",
   "execution_count": null,
   "id": "fd323930-1b67-4ec8-b840-d9e84658792f",
   "metadata": {},
   "outputs": [],
   "source": [
    "# adding geo_scope identifier\n",
    "df['geo_scope'] = 1\n",
    "df['geo_scope'] = df['geo_scope'].astype(int)"
   ]
  },
  {
   "cell_type": "code",
   "execution_count": null,
   "id": "3ecb0adf-dfa1-42f9-b112-4e122c1c9916",
   "metadata": {},
   "outputs": [],
   "source": [
    "# re-check table\n",
    "df.head()"
   ]
  },
  {
   "cell_type": "code",
   "execution_count": null,
   "id": "402e9692-eb8c-439b-a060-558801f1254b",
   "metadata": {},
   "outputs": [],
   "source": [
    "# store data to database\n",
    "df.to_sql(name=table_name, con=db_engine, if_exists='replace')"
   ]
  },
  {
   "cell_type": "code",
   "execution_count": null,
   "id": "d561b42f-bf5c-4f00-b30c-2a8461f5df05",
   "metadata": {},
   "outputs": [],
   "source": [
    "# the next stage will go through the same steps, to not repeating ourselves, we can use this function:\n",
    "\n",
    "def dump_data(sheet, skip_rows, use_cols, geo_scope, postgres_table_name, store_mode):\n",
    "    # read file\n",
    "    df = pd.read_excel(url, sheet_name=sheet, skiprows=skip_rows, usecols=use_cols)\n",
    "\n",
    "    # clean column names\n",
    "    df = clean_column_names(df)  \n",
    "\n",
    "    # convert data type\n",
    "    df = convert_abs_datatype(df)\n",
    "\n",
    "    # adding geo_scope identifier\n",
    "    df['geo_scope'] = geo_scope\n",
    "    df['geo_scope'] = df['geo_scope'].astype(int)\n",
    "\n",
    "    # store data to database\n",
    "    df.to_sql(name=postgres_table_name, con=db_engine, if_exists=store_mode)"
   ]
  },
  {
   "cell_type": "markdown",
   "id": "80cbe50b-24d8-47d0-baeb-049101160988",
   "metadata": {},
   "source": [
    "### 4.1.2. Table 2 and table 3"
   ]
  },
  {
   "cell_type": "code",
   "execution_count": null,
   "id": "0db4bd80-a8c8-4f03-b940-8dac9a1af053",
   "metadata": {},
   "outputs": [],
   "source": [
    "col_span=\"A:C,D:L\"\n",
    "dump_data(\"Table 2\", 6, col_span, 2, table_name, \"append\")\n",
    "dump_data(\"Table 3\", 6, col_span, 3, table_name, \"append\")"
   ]
  },
  {
   "cell_type": "markdown",
   "id": "b0f4e617-5d94-4b27-895b-89cc1102aa5c",
   "metadata": {},
   "source": [
    "## 4.2. Estimated resident population - Males - year ended 30 June"
   ]
  },
  {
   "cell_type": "code",
   "execution_count": null,
   "id": "73458e4c-e8dc-453e-9db3-eb2d2491b81e",
   "metadata": {},
   "outputs": [],
   "source": [
    "table_name = 'estimated_resident_population_males'\n",
    "col_span=\"A:C,M:AV\"\n",
    "\n",
    "# Table 1\n",
    "dump_data(\"Table 1\", 6, col_span, 1, table_name, \"replace\")\n",
    "# Table 2\n",
    "dump_data(\"Table 2\", 6, col_span, 2, table_name, \"append\")\n",
    "# Table 3\n",
    "dump_data(\"Table 3\", 6, col_span, 3, table_name, \"append\")"
   ]
  },
  {
   "cell_type": "markdown",
   "id": "99bdfc9c-86c5-4788-9d4d-eeb63420c3df",
   "metadata": {},
   "source": [
    "## 4.3 Estimated resident population - Females - year ended 30 June"
   ]
  },
  {
   "cell_type": "code",
   "execution_count": null,
   "id": "9199a326-bc2e-4849-90b6-c8ced60d5fec",
   "metadata": {},
   "outputs": [],
   "source": [
    "table_name = 'estimated_resident_population_females'\n",
    "col_span=\"A:C,AW:CF\"\n",
    "\n",
    "# Table 1\n",
    "dump_data(\"Table 1\", 6, col_span, 1, table_name, \"replace\")\n",
    "# Table 2\n",
    "dump_data(\"Table 2\", 6, col_span, 2, table_name, \"append\")\n",
    "# Table 3\n",
    "dump_data(\"Table 3\", 6, col_span, 3, table_name, \"append\")"
   ]
  },
  {
   "attachments": {},
   "cell_type": "markdown",
   "id": "2c7b7b30-28c2-4cf2-a7f2-27a77bc96f83",
   "metadata": {},
   "source": [
    "## 4.4 Estimated resident population - Persons - year ended 30 June"
   ]
  },
  {
   "cell_type": "code",
   "execution_count": null,
   "id": "4a01f5e6-f5c0-44c1-869f-1b834875d5f7",
   "metadata": {},
   "outputs": [],
   "source": [
    "table_name = 'estimated_resident_population_persons'\n",
    "col_span=\"A:C,CG:DP\"\n",
    "\n",
    "# Table 1\n",
    "dump_data(\"Table 1\", 6, col_span, 1, table_name, \"replace\")\n",
    "# Table 2\n",
    "dump_data(\"Table 2\", 6, col_span, 2, table_name, \"append\")\n",
    "# Table 3\n",
    "dump_data(\"Table 3\", 6, col_span, 3, table_name, \"append\")"
   ]
  },
  {
   "cell_type": "markdown",
   "id": "c210b972-46a0-4432-9a76-169e2db2572b",
   "metadata": {},
   "source": [
    "## 4.5. Births and deaths - year ended 31 December"
   ]
  },
  {
   "cell_type": "code",
   "execution_count": null,
   "id": "e24133ad-b602-414a-80ff-c8c8b1acb217",
   "metadata": {},
   "outputs": [],
   "source": [
    "table_name = 'births_and_deaths'\n",
    "col_span=\"A:C,DQ:DT\"\n",
    "\n",
    "# Table 1\n",
    "dump_data(\"Table 1\", 6, col_span, 1, table_name, \"replace\")\n",
    "# Table 2\n",
    "dump_data(\"Table 2\", 6, col_span, 2, table_name, \"append\")\n",
    "# Table 3\n",
    "dump_data(\"Table 3\", 6, col_span, 3, table_name, \"append\")"
   ]
  },
  {
   "cell_type": "markdown",
   "id": "c4f9dcfb-4327-4216-8eca-874fad9625a1",
   "metadata": {},
   "source": [
    "## 4.6. Internal and overseas migration - year ended 30 June"
   ]
  },
  {
   "cell_type": "code",
   "execution_count": null,
   "id": "bb04ce74-1686-4d3e-a3e3-9ae55fe8664c",
   "metadata": {},
   "outputs": [],
   "source": [
    "table_name = 'internal_and_overseas_migration'\n",
    "col_span=\"A:C,DU:DZ\"\n",
    "\n",
    "# Table 1\n",
    "dump_data(\"Table 1\", 6, col_span, 1, table_name, \"replace\")\n",
    "# Table 2\n",
    "dump_data(\"Table 2\", 6, col_span, 2, table_name, \"append\")"
   ]
  },
  {
   "cell_type": "markdown",
   "id": "1993dbfd-e928-4bbd-9e5c-474a99194fd2",
   "metadata": {},
   "source": [
    "## 4.7. Aboriginal and Torres Strait Islander Peoples - Census"
   ]
  },
  {
   "cell_type": "code",
   "execution_count": null,
   "id": "c33132aa-aea7-43da-9182-bb2810aa9577",
   "metadata": {},
   "outputs": [],
   "source": [
    "table_name = 'aboriginal_and_torres_strait_islander_peoples'\n",
    "col_span=\"A:C,EA:EB\"\n",
    "\n",
    "# Table 1\n",
    "dump_data(\"Table 1\", 6, col_span, 1, table_name, \"replace\")\n",
    "# Table 2\n",
    "dump_data(\"Table 2\", 6, col_span, 2, table_name, \"append\")"
   ]
  },
  {
   "cell_type": "markdown",
   "id": "0c351170-bafb-40ac-ac41-1187f75e7199",
   "metadata": {},
   "source": [
    "## 4.8. Overseas born population"
   ]
  },
  {
   "cell_type": "code",
   "execution_count": null,
   "id": "df6a3246-0ac7-4600-b0e1-3f99c487ec7a",
   "metadata": {},
   "outputs": [],
   "source": [
    "table_name = 'overseas_born_population'\n",
    "col_span=\"A:C,EC:EM\"\n",
    "\n",
    "# Table 1\n",
    "dump_data(\"Table 1\", 6, col_span, 1, table_name, \"replace\")\n",
    "# Table 2\n",
    "dump_data(\"Table 2\", 6, col_span, 2, table_name, \"append\")"
   ]
  },
  {
   "cell_type": "markdown",
   "id": "9a8cfe45-51f3-4a70-8f62-229932b9456d",
   "metadata": {},
   "source": [
    "## 4.9. Religious affiliation"
   ]
  },
  {
   "cell_type": "code",
   "execution_count": null,
   "id": "498659aa-ef67-4421-b627-2a97cbf7efaf",
   "metadata": {},
   "outputs": [],
   "source": [
    "table_name = 'religious_affiliation'\n",
    "col_span=\"A:C,EN:EU\"\n",
    "\n",
    "# Table 1\n",
    "dump_data(\"Table 1\", 6, col_span, 1, table_name, \"replace\")\n",
    "# Table 2\n",
    "dump_data(\"Table 2\", 6, col_span, 2, table_name, \"append\")"
   ]
  },
  {
   "cell_type": "markdown",
   "id": "6c9fea4c-f8da-4b85-aba0-6638eb634d2b",
   "metadata": {},
   "source": [
    "## 4.10. Australian citizenship"
   ]
  },
  {
   "cell_type": "code",
   "execution_count": null,
   "id": "6f6363ae-f02b-4718-8359-b255b69cf1ad",
   "metadata": {},
   "outputs": [],
   "source": [
    "table_name = 'australian_citizenship'\n",
    "col_span=\"A:C,EV:FA\"\n",
    "\n",
    "# Table 1\n",
    "dump_data(\"Table 1\", 6, col_span, 1, table_name, \"replace\")\n",
    "# Table 2\n",
    "dump_data(\"Table 2\", 6, col_span, 2, table_name, \"append\")"
   ]
  },
  {
   "cell_type": "markdown",
   "id": "7b9ea4d5-8187-41a2-bb63-a126264a921f",
   "metadata": {},
   "source": [
    "## 4.11. Speaks a language other than English at home"
   ]
  },
  {
   "cell_type": "code",
   "execution_count": null,
   "id": "eec70e2a-dec9-4244-9ab6-93af5f02c36a",
   "metadata": {},
   "outputs": [],
   "source": [
    "table_name = 'speaks_other_than_english_at_home'\n",
    "col_span=\"A:C,FB:FC\"\n",
    "\n",
    "# Table 1\n",
    "dump_data(\"Table 1\", 6, col_span, 1, table_name, \"replace\")\n",
    "# Table 2\n",
    "dump_data(\"Table 2\", 6, col_span, 2, table_name, \"append\")"
   ]
  },
  {
   "cell_type": "markdown",
   "id": "7dd847cc-1ace-4bcb-9020-9d847ca6182e",
   "metadata": {},
   "source": [
    "## 4.12. Australian Defence Force service - Persons aged 15 years and over"
   ]
  },
  {
   "cell_type": "code",
   "execution_count": null,
   "id": "4d6ed5cf-6465-48da-ad01-9fa9adf11130",
   "metadata": {},
   "outputs": [],
   "source": [
    "table_name = 'australian_defence_force_service'\n",
    "col_span=\"A:C,FD:FG\"\n",
    "\n",
    "# Table 1\n",
    "dump_data(\"Table 1\", 6, col_span, 1, table_name, \"replace\")\n",
    "# Table 2\n",
    "dump_data(\"Table 2\", 6, col_span, 2, table_name, \"append\")"
   ]
  },
  {
   "cell_type": "markdown",
   "id": "48b3c4c4",
   "metadata": {},
   "source": [
    "# 5. Data Augmentation"
   ]
  },
  {
   "cell_type": "code",
   "execution_count": 36,
   "id": "6b27071d",
   "metadata": {},
   "outputs": [],
   "source": [
    "def get_state_coordinates(df, state_col='state', wait=1):\n",
    "    # Extract unique states\n",
    "    state_list = df[state_col].dropna().unique().tolist()\n",
    "\n",
    "    # Initialize dictionary to store results\n",
    "    state_coords = {}\n",
    "\n",
    "    # Nominatim API setup\n",
    "    base_url = 'https://nominatim.openstreetmap.org/search'\n",
    "    headers = {'User-Agent': 'COMP5339'}\n",
    "\n",
    "    # Query OpenStreetMap for each state\n",
    "    for state in state_list:\n",
    "        params = {'q': state, 'format': 'json'}\n",
    "        t.sleep(wait)  # avoid overloading the service\n",
    "        try:\n",
    "            response = requests.get(base_url, params=params, headers=headers)\n",
    "            if response.status_code == 200:\n",
    "                data = response.json()\n",
    "                if data:\n",
    "                    lat = float(data[0]['lat'])\n",
    "                    lon = float(data[0]['lon'])\n",
    "                    state_coords[state] = (lat, lon)\n",
    "                else:\n",
    "                    state_coords[state] = (None, None)\n",
    "            else:\n",
    "                state_coords[state] = (None, None)\n",
    "        except:\n",
    "            state_coords[state] = (None, None)\n",
    "\n",
    "    return state_coords\n"
   ]
  },
  {
   "cell_type": "code",
   "execution_count": 42,
   "id": "52be2be9-0934-42f1-aea6-ddde5318b4ad",
   "metadata": {},
   "outputs": [],
   "source": [
    "# Function to return the latitude and longitude of the address using OpenStreetMap Nominatim API\n",
    "def geocode_osm(name, state, state_coords=None, wait=1):\n",
    "    # Base URL for OpenStreetMap Nominatim API\n",
    "    base_url = 'https://nominatim.openstreetmap.org/search'\n",
    "    headers = {'User-Agent': 'COMP5339'}\n",
    "\n",
    "    # Step 1: Try geocoding the name only\n",
    "    params = {'q': name, 'format': 'json'}\n",
    "    t.sleep(wait)\n",
    "    try:\n",
    "        response = requests.get(base_url, params=params, headers=headers)\n",
    "        if response.status_code == 200:\n",
    "            data = response.json()\n",
    "            if data:\n",
    "                return float(data[0]['lat']), float(data[0]['lon'])\n",
    "    except:\n",
    "        pass  # silently ignore errors\n",
    "\n",
    "    # Step 2: If name fails, check if state exists in the provided dictionary\n",
    "    if state_coords and state in state_coords:\n",
    "        return state_coords[state]\n",
    "\n",
    "    # Step 3: If all fails, return None\n",
    "    return None, None"
   ]
  },
  {
   "cell_type": "code",
   "execution_count": 44,
   "id": "81a075bc",
   "metadata": {},
   "outputs": [
    {
     "data": {
      "text/html": [
       "<div>\n",
       "<style scoped>\n",
       "    .dataframe tbody tr th:only-of-type {\n",
       "        vertical-align: middle;\n",
       "    }\n",
       "\n",
       "    .dataframe tbody tr th {\n",
       "        vertical-align: top;\n",
       "    }\n",
       "\n",
       "    .dataframe thead th {\n",
       "        text-align: right;\n",
       "    }\n",
       "</style>\n",
       "<table border=\"1\" class=\"dataframe\">\n",
       "  <thead>\n",
       "    <tr style=\"text-align: right;\">\n",
       "      <th></th>\n",
       "      <th>index</th>\n",
       "      <th>accreditation_code</th>\n",
       "      <th>power_station_name</th>\n",
       "      <th>state</th>\n",
       "      <th>installed_capacity</th>\n",
       "      <th>postcode</th>\n",
       "      <th>fuel_sources</th>\n",
       "      <th>accreditation_start_date</th>\n",
       "      <th>suspension_status</th>\n",
       "      <th>baseline_mwh</th>\n",
       "      <th>comment</th>\n",
       "    </tr>\n",
       "  </thead>\n",
       "  <tbody>\n",
       "    <tr>\n",
       "      <th>0</th>\n",
       "      <td>0</td>\n",
       "      <td>SRPXQLG5</td>\n",
       "      <td>Varsity Views - Solar w SGU - QLD</td>\n",
       "      <td>QLD</td>\n",
       "      <td>0.2109</td>\n",
       "      <td>4227</td>\n",
       "      <td>Solar</td>\n",
       "      <td>2024-12-18</td>\n",
       "      <td>Unsuspended</td>\n",
       "      <td>0</td>\n",
       "      <td>None</td>\n",
       "    </tr>\n",
       "    <tr>\n",
       "      <th>1</th>\n",
       "      <td>1</td>\n",
       "      <td>SRPYNS51</td>\n",
       "      <td>NNSWLHD-Byron Central Hospital - Solar - NSW</td>\n",
       "      <td>NSW</td>\n",
       "      <td>0.7203</td>\n",
       "      <td>2481</td>\n",
       "      <td>Solar</td>\n",
       "      <td>2024-12-12</td>\n",
       "      <td>Unsuspended</td>\n",
       "      <td>0</td>\n",
       "      <td>None</td>\n",
       "    </tr>\n",
       "    <tr>\n",
       "      <th>2</th>\n",
       "      <td>2</td>\n",
       "      <td>SRPXQLG2</td>\n",
       "      <td>Springwood Terrace Care Community - Solar w SG...</td>\n",
       "      <td>QLD</td>\n",
       "      <td>0.1890</td>\n",
       "      <td>4127</td>\n",
       "      <td>Solar</td>\n",
       "      <td>2024-12-10</td>\n",
       "      <td>Unsuspended</td>\n",
       "      <td>0</td>\n",
       "      <td>None</td>\n",
       "    </tr>\n",
       "    <tr>\n",
       "      <th>3</th>\n",
       "      <td>3</td>\n",
       "      <td>SRPYNS45</td>\n",
       "      <td>Bunnings Bennetts Green - Solar - NSW</td>\n",
       "      <td>NSW</td>\n",
       "      <td>0.2800</td>\n",
       "      <td>2290</td>\n",
       "      <td>Solar</td>\n",
       "      <td>2024-12-03</td>\n",
       "      <td>Unsuspended</td>\n",
       "      <td>0</td>\n",
       "      <td>None</td>\n",
       "    </tr>\n",
       "    <tr>\n",
       "      <th>4</th>\n",
       "      <td>4</td>\n",
       "      <td>SRPYNS46</td>\n",
       "      <td>Tuggerah Home MSB1 254kW - Solar - NSW</td>\n",
       "      <td>NSW</td>\n",
       "      <td>0.2540</td>\n",
       "      <td>2259</td>\n",
       "      <td>Solar</td>\n",
       "      <td>2024-12-02</td>\n",
       "      <td>Unsuspended</td>\n",
       "      <td>0</td>\n",
       "      <td>None</td>\n",
       "    </tr>\n",
       "  </tbody>\n",
       "</table>\n",
       "</div>"
      ],
      "text/plain": [
       "   index accreditation_code  \\\n",
       "0      0           SRPXQLG5   \n",
       "1      1           SRPYNS51   \n",
       "2      2           SRPXQLG2   \n",
       "3      3           SRPYNS45   \n",
       "4      4           SRPYNS46   \n",
       "\n",
       "                                  power_station_name state  \\\n",
       "0                  Varsity Views - Solar w SGU - QLD   QLD   \n",
       "1       NNSWLHD-Byron Central Hospital - Solar - NSW   NSW   \n",
       "2  Springwood Terrace Care Community - Solar w SG...   QLD   \n",
       "3              Bunnings Bennetts Green - Solar - NSW   NSW   \n",
       "4             Tuggerah Home MSB1 254kW - Solar - NSW   NSW   \n",
       "\n",
       "   installed_capacity  postcode fuel_sources accreditation_start_date  \\\n",
       "0              0.2109      4227        Solar               2024-12-18   \n",
       "1              0.7203      2481        Solar               2024-12-12   \n",
       "2              0.1890      4127        Solar               2024-12-10   \n",
       "3              0.2800      2290        Solar               2024-12-03   \n",
       "4              0.2540      2259        Solar               2024-12-02   \n",
       "\n",
       "  suspension_status  baseline_mwh comment  \n",
       "0       Unsuspended             0    None  \n",
       "1       Unsuspended             0    None  \n",
       "2       Unsuspended             0    None  \n",
       "3       Unsuspended             0    None  \n",
       "4       Unsuspended             0    None  "
      ]
     },
     "execution_count": 44,
     "metadata": {},
     "output_type": "execute_result"
    }
   ],
   "source": [
    "# Query the table and load into DataFrame\n",
    "table_name = 'accredited_power_stations_data'\n",
    "query = f\"SELECT * FROM {table_name}\"\n",
    "\n",
    "# Access the power stations table using pandas\n",
    "power_station_df = pd.read_sql(query, con=db_engine)\n",
    "\n",
    "# Display the first few rows of the table\n",
    "power_station_df.head()"
   ]
  },
  {
   "cell_type": "code",
   "execution_count": 46,
   "id": "d64a440e",
   "metadata": {},
   "outputs": [
    {
     "data": {
      "text/plain": [
       "{'QLD': (-22.1646782, 144.5844903),\n",
       " 'NSW': (-31.8759835, 147.2869493),\n",
       " 'VIC': (41.9302021, 2.2545943),\n",
       " 'SA': (25.6242618, 42.3528328),\n",
       " 'WA': (-25.2303005, 121.0187246),\n",
       " 'ACT': (-35.4883502, 149.0026942),\n",
       " 'TAS': (-42.035067, 146.6366887),\n",
       " 'NT': (-19.8516101, 133.2303375)}"
      ]
     },
     "execution_count": 46,
     "metadata": {},
     "output_type": "execute_result"
    }
   ],
   "source": [
    "# Get unique state coordinates\n",
    "state_coords = get_state_coordinates(power_station_df, state_col='state', wait=1)\n",
    "\n",
    "state_coords"
   ]
  },
  {
   "cell_type": "code",
   "execution_count": null,
   "id": "0a5e0418",
   "metadata": {},
   "outputs": [],
   "source": [
    "# Apply geocode_osm to each row and unpack results into 'Latitude' and 'Longitude'\n",
    "power_station_df['Latitude'], power_station_df['Longitude'] = zip(*power_station_df.apply(lambda row: geocode_osm(row['power_station_name'], row['state'], state_coords=state_coords), axis=1))\n",
    "\n",
    "power_station_df.head()"
   ]
  },
  {
   "cell_type": "code",
   "execution_count": null,
   "id": "574f16ff",
   "metadata": {},
   "outputs": [],
   "source": [
    "# Test connection and check PostGIS status using text() for SQL\n",
    "with db_engine.connect() as connection:\n",
    "    result = connection.execute(text(\"SELECT PostGIS_full_version();\"))\n",
    "    postgis_version = result.fetchone()\n",
    "    print(f\"PostGIS Version: {postgis_version[0]}\")"
   ]
  },
  {
   "cell_type": "code",
   "execution_count": null,
   "id": "97ec1edf",
   "metadata": {},
   "outputs": [],
   "source": [
    "# Convert lat/lon to PostGIS Point\n",
    "power_station_df['geom'] = power_station_df.apply(\n",
    "    lambda row: WKTElement(f\"POINT({row['Longitude']} {row['Latitude']})\", srid=4326),\n",
    "    axis=1\n",
    ")\n",
    "\n",
    "power_station_df.head()"
   ]
  },
  {
   "cell_type": "code",
   "execution_count": null,
   "id": "579146a9",
   "metadata": {},
   "outputs": [],
   "source": [
    "table_name = 'spatial_power_stations_data'\n",
    "\n",
    "# store data to database\n",
    "power_station_df.to_sql(name=table_name, con=db_engine, if_exists='replace', index=False, dtype={'geom': Geometry('POINT', srid=4326)})"
   ]
  },
  {
   "cell_type": "code",
   "execution_count": null,
   "id": "0500a7fa",
   "metadata": {},
   "outputs": [],
   "source": [
    "# Check Postgis\n",
    "query = text(\"SELECT power_station_name, ST_AsText(geom) AS geom_wkt FROM spatial_power_stations_data LIMIT 5;\")\n",
    "df_check = pd.read_sql(query, con=db_engine)\n",
    "print(df_check)"
   ]
  },
  {
   "cell_type": "markdown",
   "id": "9f5718c5",
   "metadata": {},
   "source": [
    "# 6. PostgreSQL"
   ]
  }
 ],
 "metadata": {
  "kernelspec": {
   "display_name": "Assignment DE",
   "language": "python",
   "name": "assignmentde"
  },
  "language_info": {
   "codemirror_mode": {
    "name": "ipython",
    "version": 3
   },
   "file_extension": ".py",
   "mimetype": "text/x-python",
   "name": "python",
   "nbconvert_exporter": "python",
   "pygments_lexer": "ipython3",
   "version": "3.12.11"
  }
 },
 "nbformat": 4,
 "nbformat_minor": 5
}
