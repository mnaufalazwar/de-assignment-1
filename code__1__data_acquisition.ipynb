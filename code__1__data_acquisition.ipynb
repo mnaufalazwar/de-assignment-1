{
 "cells": [
  {
   "cell_type": "markdown",
   "id": "87439a19-b252-4cae-af75-634af1ef2b0d",
   "metadata": {},
   "source": [
    "# 1. Import Dependencies"
   ]
  },
  {
   "cell_type": "code",
   "execution_count": 3,
   "id": "06220881-5a58-4202-8f38-43651a21837f",
   "metadata": {},
   "outputs": [],
   "source": [
    "from datetime import datetime\n",
    "from io import BytesIO\n",
    "from sqlalchemy import create_engine, inspect, text\n",
    "from time import time\n",
    "\n",
    "import json\n",
    "import locale\n",
    "import numpy as np\n",
    "import pandas as pd\n",
    "\n",
    "import requests\n",
    "import time as t\n",
    "from geoalchemy2 import Geometry, WKTElement\n",
    "import psycopg2\n",
    "from shapely import wkb, wkt\n",
    "\n",
    "import warnings\n",
    "warnings.filterwarnings(\"ignore\")\n",
    "pd.set_option(\"display.max_columns\", None)\n",
    "\n",
    "import matplotlib.pyplot as plt\n",
    "import seaborn as sns"
   ]
  },
  {
   "cell_type": "markdown",
   "id": "be690e41-a048-4b04-985c-f5fce794a302",
   "metadata": {},
   "source": [
    "# 2. Database setup"
   ]
  },
  {
   "cell_type": "markdown",
   "id": "634b87cc-aaec-4d55-8893-ee0b3a4facf2",
   "metadata": {},
   "source": [
    "Notes: put your postgresql configuration in the config.json file"
   ]
  },
  {
   "cell_type": "code",
   "execution_count": 6,
   "id": "c87faa07-03f3-4ed2-8a7c-608f1400f41b",
   "metadata": {},
   "outputs": [],
   "source": [
    "with open('config.json') as config:\n",
    "    db_config = json.load(config)\n",
    "\n",
    "db_user = db_config['DB_USER']\n",
    "db_password = db_config['DB_PASSWORD']\n",
    "db_host = db_config['DB_HOST']\n",
    "db_port = db_config['DB_PORT']\n",
    "db_name = db_config['DB_NAME']\n",
    "\n",
    "db_engine = create_engine(f'postgresql://{db_user}:{db_password}@{db_host}:{db_port}/{db_name}')\n",
    "gh_inspector = inspect(db_engine)"
   ]
  },
  {
   "cell_type": "markdown",
   "id": "3f0d2b77-363a-4448-b5d6-b53a0b062194",
   "metadata": {},
   "source": [
    "# 3. Data Acquisition"
   ]
  },
  {
   "cell_type": "markdown",
   "id": "8a60dd88-9e9c-48a5-88ad-fdb2d87f0c77",
   "metadata": {},
   "source": [
    "## 3.1. Dataset 1: Greenhouse and energy information by designated generation facility (NGER)"
   ]
  },
  {
   "cell_type": "code",
   "execution_count": 9,
   "id": "968565d2-dcbd-4405-afc5-61aa5db50092",
   "metadata": {},
   "outputs": [],
   "source": [
    "# Define a list of dictionaries containing energy data facts, including time periods and dataset IDs.\n",
    "# Each dictionary represents a unique time period with a start date, stop date, and a corresponding dataset ID.\n",
    "gh_energy_data_facts = [\n",
    "    {\n",
    "        \"time_period_start\": datetime(2023, 1, 7),\n",
    "        \"time_period_stop\": datetime(2024, 6, 30),\n",
    "        \"dataset_id\": \"ID0243\"\n",
    "    },\n",
    "    {\n",
    "        \"time_period_start\": datetime(2022, 1, 7),\n",
    "        \"time_period_stop\": datetime(2023, 6, 30),\n",
    "        \"dataset_id\": \"ID0083\"\n",
    "    },\n",
    "    {\n",
    "        \"time_period_start\": datetime(2021, 1, 7),\n",
    "        \"time_period_stop\": datetime(2022, 6, 30),\n",
    "        \"dataset_id\": \"ID0082\"\n",
    "    },\n",
    "    {\n",
    "        \"time_period_start\": datetime(2020, 1, 7),\n",
    "        \"time_period_stop\": datetime(2021, 6, 30),\n",
    "        \"dataset_id\": \"ID0081\"\n",
    "    },\n",
    "    {\n",
    "        \"time_period_start\": datetime(2019, 1, 7),\n",
    "        \"time_period_stop\": datetime(2020, 6, 30),\n",
    "        \"dataset_id\": \"ID0080\"\n",
    "    },\n",
    "    {\n",
    "        \"time_period_start\": datetime(2018, 1, 7),\n",
    "        \"time_period_stop\": datetime(2019, 6, 30),\n",
    "        \"dataset_id\": \"ID0079\"\n",
    "    },\n",
    "    {\n",
    "        \"time_period_start\": datetime(2017, 1, 7),\n",
    "        \"time_period_stop\": datetime(2018, 6, 30),\n",
    "        \"dataset_id\": \"ID0078\"\n",
    "    },\n",
    "    {\n",
    "        \"time_period_start\": datetime(2016, 1, 7),\n",
    "        \"time_period_stop\": datetime(2017, 6, 30),\n",
    "        \"dataset_id\": \"ID0077\"\n",
    "    },\n",
    "    {\n",
    "        \"time_period_start\": datetime(2015, 1, 7),\n",
    "        \"time_period_stop\": datetime(2016, 6, 30),\n",
    "        \"dataset_id\": \"ID0076\"\n",
    "    },\n",
    "    {\n",
    "        \"time_period_start\": datetime(2014, 1, 7),\n",
    "        \"time_period_stop\": datetime(2015, 6, 30),\n",
    "        \"dataset_id\": \"ID0075\"\n",
    "    }\n",
    "]\n",
    "\n",
    "# Define column aliases for the 'greenhouse_and_energy' dataset.\n",
    "# Each dictionary maps the standard column name to a list of potential variations or aliases used in the dataset.\n",
    "gh_energy_column_aliases = [\n",
    "    {\"reporting_entity\": [\"reportingentity\", \"reportingEntity\", \"controllingcorporation\"]},\n",
    "    {\"facility_name\" : [\"facilityname\", \"facilityName\"]},\n",
    "    {\"type\": [\"type\"]},\n",
    "    {\"state\": [\"state\"]},\n",
    "    {\"electricity_production_gj\": [\"electricityproductionGJ\", \"electricityProductionGJ\"]},\n",
    "    {\"electricity_production_mwh\" :[\"electricityproductionMWh\", \"electricityProductionMWh\", \"electricityProductionMwh\"]},\n",
    "    {\"total_scope_1_emissions_t_co2_e\": [\"totalscope1emissionstCO2e\", \"totalScope1EmissionstCO2e\", \"scope1tCO2e\"]},\n",
    "    {\"total_scope_2_emissions_t_co2_e\": [\"totalscope2emissionstCO2e\", \"totalScope2EmissionstCO2e\", \"totalScope2EmissionstCO2e2\", \"scope2tCO2e\"]},\n",
    "    {\"total_emissions_t_co2_e\": [\"totalemissionstCO2e\", \"totalEmissionstCO2e\"]},\n",
    "    {\"emission_intensity_t_co2_emwh\": [\"emissionintensitytCO2eMWh\", \"emissionIntensitytCO2eMWh\", \"emissionIntensitytMwh\"]},\n",
    "    {\"grid_connected\": [\"gridconnected\", \"gridConnected\", \"gridConnected2\"]},\n",
    "    {\"grid\": [\"grid\"]},\n",
    "    {\"primary_fuel\": [\"primaryfuel\", \"primaryFuel\"]},\n",
    "    {\"important_notes\": [\"importantnotes\", \"importantNotes\"]},\n",
    "    {\"time_period_start\": [\"time_period_start\"]},\n",
    "    {\"time_period_stop\": [\"time_period_stop\"]},\n",
    "    {\"dataset_id\": [\"dataset_id\"]} \n",
    "]\n",
    "\n",
    "# The name of the table in the postgresql database where the energy data is stored.\n",
    "gh_energy_table_name = \"greenhouse_and_energy\""
   ]
  },
  {
   "cell_type": "code",
   "execution_count": 10,
   "id": "f3e7595c-893b-4161-9f66-411995097f4a",
   "metadata": {},
   "outputs": [
    {
     "name": "stdout",
     "output_type": "stream",
     "text": [
      "CREATE TABLE \"greenhouse_and_energy\" (\n",
      "\"reporting_entity\" TEXT,\n",
      "  \"facility_name\" TEXT,\n",
      "  \"type\" TEXT,\n",
      "  \"state\" TEXT,\n",
      "  \"electricity_production_gj\" INTEGER,\n",
      "  \"electricity_production_mwh\" INTEGER,\n",
      "  \"total_scope_1_emissions_t_co2_e\" INTEGER,\n",
      "  \"total_scope_2_emissions_t_co2_e\" REAL,\n",
      "  \"total_emissions_t_co2_e\" INTEGER,\n",
      "  \"emission_intensity_t_co2_emwh\" REAL,\n",
      "  \"grid_connected\" TEXT,\n",
      "  \"grid\" TEXT,\n",
      "  \"primary_fuel\" TEXT,\n",
      "  \"important_notes\" TEXT,\n",
      "  \"time_period_start\" TIMESTAMP,\n",
      "  \"time_period_stop\" TIMESTAMP,\n",
      "  \"dataset_id\" TEXT\n",
      ")\n",
      "inserting table ID0243...\n",
      "inserted table ID0243 in      0.076 seconds\n",
      "775 rows inserted\n",
      "inserting table ID0083...\n",
      "inserted table ID0083 in      0.070 seconds\n",
      "1480 rows inserted\n",
      "inserting table ID0082...\n",
      "inserted table ID0082 in      0.047 seconds\n",
      "2171 rows inserted\n",
      "inserting table ID0081...\n",
      "inserted table ID0081 in      0.053 seconds\n",
      "2826 rows inserted\n",
      "inserting table ID0080...\n",
      "inserted table ID0080 in      0.060 seconds\n",
      "3447 rows inserted\n",
      "inserting table ID0079...\n",
      "inserted table ID0079 in      0.061 seconds\n",
      "4030 rows inserted\n",
      "inserting table ID0078...\n",
      "inserted table ID0078 in      0.059 seconds\n",
      "4552 rows inserted\n",
      "inserting table ID0077...\n",
      "inserted table ID0077 in      0.056 seconds\n",
      "5038 rows inserted\n",
      "inserting table ID0076...\n",
      "inserted table ID0076 in      0.056 seconds\n",
      "5518 rows inserted\n",
      "inserting table ID0075...\n",
      "inserted table ID0075 in      0.053 seconds\n",
      "5942 rows inserted\n"
     ]
    }
   ],
   "source": [
    "# standardize column names from every csv files\n",
    "def standardize_column_name(df, col_name_aliases):\n",
    "    col_names = df.columns.tolist()\n",
    "    col_map = {}\n",
    "\n",
    "    for col in col_names:\n",
    "        for alias_dict in col_name_aliases:\n",
    "            alias = list(alias_dict.values())[0]\n",
    "            if col in alias:\n",
    "                col_map[col] = list(alias_dict.keys())[0]\n",
    "                break\n",
    "\n",
    "    return df.rename(columns=col_map)\n",
    "\n",
    "# read the data from csv file and store it to database\n",
    "total_row_inserted = 0\n",
    "for index, fact in enumerate(gh_energy_data_facts):\n",
    "    # read csv\n",
    "    dataset_id = fact['dataset_id']\n",
    "    url = f'https://api.cer.gov.au/datahub-public/v1/api/ODataDataset/NGER/dataset/{dataset_id}?select%3D%2A'\n",
    "    response = requests.get(url)\n",
    "    df = pd.DataFrame(response.json())\n",
    "\n",
    "    # standardize column name\n",
    "    df = standardize_column_name(df, gh_energy_column_aliases)\n",
    "\n",
    "    # add columns: time_period, dataset_id\n",
    "    df['time_period_start'] = fact['time_period_start']\n",
    "    df['time_period_stop'] = fact['time_period_stop']\n",
    "    df['dataset_id'] = fact['dataset_id']\n",
    "\n",
    "    if index == 0:\n",
    "        # Generate the CREATE TABLE statement\n",
    "        create_table_statement = pd.io.sql.get_schema(df, gh_energy_table_name)\n",
    "        \n",
    "        # Print the generated statement\n",
    "        print(create_table_statement)\n",
    "\n",
    "        # Create table\n",
    "        df.head(n=0).to_sql(name=gh_energy_table_name, con=db_engine, if_exists='replace')\n",
    "    \n",
    "    print(f'inserting table {fact['dataset_id']}...')\n",
    "    t_start = time()\n",
    "    df.to_sql(name=gh_energy_table_name, con=db_engine, if_exists='append')\n",
    "    t_end = time()\n",
    "    print(f'inserted table {fact['dataset_id']} in {t_end-t_start:10.3f} seconds')\n",
    "    total_row_inserted = total_row_inserted + len(df)\n",
    "    print(f'{total_row_inserted} rows inserted')\n",
    "        "
   ]
  },
  {
   "cell_type": "markdown",
   "id": "b94ef65a-55d7-45bb-a3c5-d5da01eda580",
   "metadata": {},
   "source": [
    "## 3.2. Dataset 2: Large-scale renewable energy data (CER)"
   ]
  },
  {
   "cell_type": "markdown",
   "id": "aa93998d-a4e2-46d8-baf3-61accf0aab26",
   "metadata": {},
   "source": [
    "### 2001–2024 Accredited power stations data"
   ]
  },
  {
   "cell_type": "code",
   "execution_count": 13,
   "id": "437643c3-ea7e-4157-9e45-3057ae8341f2",
   "metadata": {},
   "outputs": [
    {
     "data": {
      "text/html": [
       "<div>\n",
       "<style scoped>\n",
       "    .dataframe tbody tr th:only-of-type {\n",
       "        vertical-align: middle;\n",
       "    }\n",
       "\n",
       "    .dataframe tbody tr th {\n",
       "        vertical-align: top;\n",
       "    }\n",
       "\n",
       "    .dataframe thead th {\n",
       "        text-align: right;\n",
       "    }\n",
       "</style>\n",
       "<table border=\"1\" class=\"dataframe\">\n",
       "  <thead>\n",
       "    <tr style=\"text-align: right;\">\n",
       "      <th></th>\n",
       "      <th>Accreditation code</th>\n",
       "      <th>Power station name</th>\n",
       "      <th>State</th>\n",
       "      <th>Installed capacity</th>\n",
       "      <th>Postcode</th>\n",
       "      <th>Fuel source(s)</th>\n",
       "      <th>Accreditation start date</th>\n",
       "      <th>Suspension status</th>\n",
       "      <th>Baseline (MWh)</th>\n",
       "      <th>Comment</th>\n",
       "    </tr>\n",
       "  </thead>\n",
       "  <tbody>\n",
       "    <tr>\n",
       "      <th>0</th>\n",
       "      <td>SRPXQLG5</td>\n",
       "      <td>Varsity Views - Solar w SGU - QLD</td>\n",
       "      <td>QLD</td>\n",
       "      <td>0.2109</td>\n",
       "      <td>4227</td>\n",
       "      <td>Solar</td>\n",
       "      <td>18/12/2024</td>\n",
       "      <td>Unsuspended</td>\n",
       "      <td>0</td>\n",
       "      <td>NaN</td>\n",
       "    </tr>\n",
       "    <tr>\n",
       "      <th>1</th>\n",
       "      <td>SRPYNS51</td>\n",
       "      <td>NNSWLHD-Byron Central Hospital - Solar - NSW</td>\n",
       "      <td>NSW</td>\n",
       "      <td>0.7203</td>\n",
       "      <td>2481</td>\n",
       "      <td>Solar</td>\n",
       "      <td>12/12/2024</td>\n",
       "      <td>Unsuspended</td>\n",
       "      <td>0</td>\n",
       "      <td>NaN</td>\n",
       "    </tr>\n",
       "    <tr>\n",
       "      <th>2</th>\n",
       "      <td>SRPXQLG2</td>\n",
       "      <td>Springwood Terrace Care Community - Solar w SG...</td>\n",
       "      <td>QLD</td>\n",
       "      <td>0.1890</td>\n",
       "      <td>4127</td>\n",
       "      <td>Solar</td>\n",
       "      <td>10/12/2024</td>\n",
       "      <td>Unsuspended</td>\n",
       "      <td>0</td>\n",
       "      <td>NaN</td>\n",
       "    </tr>\n",
       "    <tr>\n",
       "      <th>3</th>\n",
       "      <td>SRPYNS45</td>\n",
       "      <td>Bunnings Bennetts Green - Solar - NSW</td>\n",
       "      <td>NSW</td>\n",
       "      <td>0.2800</td>\n",
       "      <td>2290</td>\n",
       "      <td>Solar</td>\n",
       "      <td>3/12/2024</td>\n",
       "      <td>Unsuspended</td>\n",
       "      <td>0</td>\n",
       "      <td>NaN</td>\n",
       "    </tr>\n",
       "    <tr>\n",
       "      <th>4</th>\n",
       "      <td>SRPYNS46</td>\n",
       "      <td>Tuggerah Home MSB1 254kW - Solar - NSW</td>\n",
       "      <td>NSW</td>\n",
       "      <td>0.2540</td>\n",
       "      <td>2259</td>\n",
       "      <td>Solar</td>\n",
       "      <td>2/12/2024</td>\n",
       "      <td>Unsuspended</td>\n",
       "      <td>0</td>\n",
       "      <td>NaN</td>\n",
       "    </tr>\n",
       "  </tbody>\n",
       "</table>\n",
       "</div>"
      ],
      "text/plain": [
       "  Accreditation code                                 Power station name State  \\\n",
       "0           SRPXQLG5                  Varsity Views - Solar w SGU - QLD   QLD   \n",
       "1           SRPYNS51       NNSWLHD-Byron Central Hospital - Solar - NSW   NSW   \n",
       "2           SRPXQLG2  Springwood Terrace Care Community - Solar w SG...   QLD   \n",
       "3           SRPYNS45              Bunnings Bennetts Green - Solar - NSW   NSW   \n",
       "4           SRPYNS46             Tuggerah Home MSB1 254kW - Solar - NSW   NSW   \n",
       "\n",
       "   Installed capacity  Postcode Fuel source(s) Accreditation start date  \\\n",
       "0              0.2109      4227          Solar               18/12/2024   \n",
       "1              0.7203      2481          Solar               12/12/2024   \n",
       "2              0.1890      4127          Solar               10/12/2024   \n",
       "3              0.2800      2290          Solar                3/12/2024   \n",
       "4              0.2540      2259          Solar                2/12/2024   \n",
       "\n",
       "  Suspension status Baseline (MWh) Comment  \n",
       "0       Unsuspended              0     NaN  \n",
       "1       Unsuspended              0     NaN  \n",
       "2       Unsuspended              0     NaN  \n",
       "3       Unsuspended              0     NaN  \n",
       "4       Unsuspended              0     NaN  "
      ]
     },
     "execution_count": 13,
     "metadata": {},
     "output_type": "execute_result"
    }
   ],
   "source": [
    "url = \"https://cer.gov.au/document/historical-accredited-power-stations-and-projects-0\"\n",
    "df = pd.read_csv(url, encoding='ISO-8859-1')\n",
    "df.head()"
   ]
  },
  {
   "cell_type": "code",
   "execution_count": 14,
   "id": "bdf4d8eb-0421-46b7-b05c-2258537a169d",
   "metadata": {},
   "outputs": [
    {
     "data": {
      "text/plain": [
       "Index(['accreditation_code', 'power_station_name', 'state',\n",
       "       'installed_capacity', 'postcode', 'fuel_sources',\n",
       "       'accreditation_start_date', 'suspension_status', 'baseline_mwh',\n",
       "       'comment'],\n",
       "      dtype='object')"
      ]
     },
     "execution_count": 14,
     "metadata": {},
     "output_type": "execute_result"
    }
   ],
   "source": [
    "# Rename column names\n",
    "df = df.rename(columns={\n",
    "    'Accreditation code': 'accreditation_code',\n",
    "    'Power station name': 'power_station_name',\n",
    "    'State': 'state',\n",
    "    'Installed capacity': 'installed_capacity',\n",
    "    'Postcode': 'postcode',\n",
    "    'Fuel source(s)': 'fuel_sources',\n",
    "    'Accreditation start date': 'accreditation_start_date',\n",
    "    'Suspension status': 'suspension_status',\n",
    "    'Baseline (MWh)': 'baseline_mwh',\n",
    "    'Comment': 'comment' \n",
    "})\n",
    "df.columns"
   ]
  },
  {
   "cell_type": "code",
   "execution_count": 15,
   "id": "7f997d74-34d8-45a2-afec-9254547d805a",
   "metadata": {},
   "outputs": [
    {
     "name": "stdout",
     "output_type": "stream",
     "text": [
      "accreditation_code           object\n",
      "power_station_name           object\n",
      "state                        object\n",
      "installed_capacity          float64\n",
      "postcode                      int64\n",
      "fuel_sources                 object\n",
      "accreditation_start_date     object\n",
      "suspension_status            object\n",
      "baseline_mwh                 object\n",
      "comment                      object\n",
      "dtype: object\n"
     ]
    }
   ],
   "source": [
    "# check data types\n",
    "print(df.dtypes)"
   ]
  },
  {
   "cell_type": "code",
   "execution_count": 16,
   "id": "50bfc9c2-0cba-42be-92b8-04b0f129252d",
   "metadata": {},
   "outputs": [],
   "source": [
    "# convert data types\n",
    "\n",
    "locale.setlocale(locale.LC_ALL, 'en_US.UTF-8')\n",
    "df['baseline_mwh'] = df['baseline_mwh'].apply(lambda x: locale.atoi(str(x)) if isinstance(x, str) else x)\n",
    "\n",
    "df['accreditation_start_date'] = pd.to_datetime(df['accreditation_start_date'], format='%d/%m/%Y')"
   ]
  },
  {
   "cell_type": "code",
   "execution_count": 17,
   "id": "75211ec3-16a0-47c5-8d71-c52f52903919",
   "metadata": {},
   "outputs": [
    {
     "data": {
      "text/plain": [
       "20"
      ]
     },
     "execution_count": 17,
     "metadata": {},
     "output_type": "execute_result"
    }
   ],
   "source": [
    "# save to database\n",
    "table_name='accredited_power_stations_data'\n",
    "df.to_sql(name=table_name, con=db_engine, if_exists='replace')"
   ]
  },
  {
   "cell_type": "markdown",
   "id": "6545ce10-8ad9-43e0-a1d4-923a0ff87482",
   "metadata": {},
   "source": [
    "### 2024 total LGCs and capacity of accredited power stations"
   ]
  },
  {
   "cell_type": "code",
   "execution_count": 19,
   "id": "60ceb4cd-b0ab-4443-aad9-a2ac99f8b386",
   "metadata": {},
   "outputs": [
    {
     "data": {
      "text/html": [
       "<div>\n",
       "<style scoped>\n",
       "    .dataframe tbody tr th:only-of-type {\n",
       "        vertical-align: middle;\n",
       "    }\n",
       "\n",
       "    .dataframe tbody tr th {\n",
       "        vertical-align: top;\n",
       "    }\n",
       "\n",
       "    .dataframe thead th {\n",
       "        text-align: right;\n",
       "    }\n",
       "</style>\n",
       "<table border=\"1\" class=\"dataframe\">\n",
       "  <thead>\n",
       "    <tr style=\"text-align: right;\">\n",
       "      <th></th>\n",
       "      <th>Total LGCs in the REC Registry</th>\n",
       "      <th>MW of approved power stations (since 1 Jan 2024)</th>\n",
       "      <th>Approved power stations (since 1 Jan 2024)</th>\n",
       "      <th>As at</th>\n",
       "    </tr>\n",
       "  </thead>\n",
       "  <tbody>\n",
       "    <tr>\n",
       "      <th>0</th>\n",
       "      <td>47,793,810</td>\n",
       "      <td>9.6</td>\n",
       "      <td>29</td>\n",
       "      <td>31/1/2024</td>\n",
       "    </tr>\n",
       "    <tr>\n",
       "      <th>1</th>\n",
       "      <td>16,976,565</td>\n",
       "      <td>340.8</td>\n",
       "      <td>97</td>\n",
       "      <td>29/2/2024</td>\n",
       "    </tr>\n",
       "    <tr>\n",
       "      <th>2</th>\n",
       "      <td>21,088,050</td>\n",
       "      <td>871.2</td>\n",
       "      <td>143</td>\n",
       "      <td>31/3/2024</td>\n",
       "    </tr>\n",
       "    <tr>\n",
       "      <th>3</th>\n",
       "      <td>24,748,564</td>\n",
       "      <td>927.6</td>\n",
       "      <td>192</td>\n",
       "      <td>30/04/2024</td>\n",
       "    </tr>\n",
       "    <tr>\n",
       "      <th>4</th>\n",
       "      <td>28,158,272</td>\n",
       "      <td>971.3</td>\n",
       "      <td>250</td>\n",
       "      <td>31/5/2024</td>\n",
       "    </tr>\n",
       "  </tbody>\n",
       "</table>\n",
       "</div>"
      ],
      "text/plain": [
       "  Total LGCs in the REC Registry  \\\n",
       "0                     47,793,810   \n",
       "1                     16,976,565   \n",
       "2                     21,088,050   \n",
       "3                     24,748,564   \n",
       "4                     28,158,272   \n",
       "\n",
       "  MW of approved power stations (since 1 Jan 2024)  \\\n",
       "0                                              9.6   \n",
       "1                                            340.8   \n",
       "2                                            871.2   \n",
       "3                                            927.6   \n",
       "4                                            971.3   \n",
       "\n",
       "   Approved power stations (since 1 Jan 2024)       As at  \n",
       "0                                          29   31/1/2024  \n",
       "1                                          97   29/2/2024  \n",
       "2                                         143   31/3/2024  \n",
       "3                                         192  30/04/2024  \n",
       "4                                         250   31/5/2024  "
      ]
     },
     "execution_count": 19,
     "metadata": {},
     "output_type": "execute_result"
    }
   ],
   "source": [
    "url = \"https://cer.gov.au/document/total-lgcs-and-capacity-accredited-power-stations-2024\"\n",
    "df = pd.read_csv(url, encoding='ISO-8859-1')\n",
    "df.head()"
   ]
  },
  {
   "cell_type": "code",
   "execution_count": 20,
   "id": "5e2230c3-05da-4ba4-b9b8-04b0e62036b1",
   "metadata": {},
   "outputs": [
    {
     "data": {
      "text/plain": [
       "Index(['total_lgcs_in_the_rec_registry',\n",
       "       'mw_of_approved_power_stations_since_1_jan_2024',\n",
       "       'approved_power_stations_since_1_jan_2024', 'as_at'],\n",
       "      dtype='object')"
      ]
     },
     "execution_count": 20,
     "metadata": {},
     "output_type": "execute_result"
    }
   ],
   "source": [
    "# Rename column names\n",
    "df = df.rename(columns={\n",
    "    'Total LGCs in the REC Registry': 'total_lgcs_in_the_rec_registry',\n",
    "    'MW of approved power stations (since 1 Jan 2024)': 'mw_of_approved_power_stations_since_1_jan_2024',\n",
    "    'Approved power stations (since 1 Jan 2024)': 'approved_power_stations_since_1_jan_2024',\n",
    "    'As at': 'as_at'\n",
    "})\n",
    "df.columns"
   ]
  },
  {
   "cell_type": "code",
   "execution_count": 21,
   "id": "71b30dcc-af29-418c-8f1e-32fb0626f527",
   "metadata": {},
   "outputs": [
    {
     "name": "stdout",
     "output_type": "stream",
     "text": [
      "total_lgcs_in_the_rec_registry                    object\n",
      "mw_of_approved_power_stations_since_1_jan_2024    object\n",
      "approved_power_stations_since_1_jan_2024           int64\n",
      "as_at                                             object\n",
      "dtype: object\n"
     ]
    }
   ],
   "source": [
    "# check data types\n",
    "print(df.dtypes)"
   ]
  },
  {
   "cell_type": "code",
   "execution_count": 22,
   "id": "ad404614-9161-42ab-ab44-144dcbd82648",
   "metadata": {},
   "outputs": [],
   "source": [
    "# convert data types\n",
    "\n",
    "locale.setlocale(locale.LC_ALL, 'en_US.UTF-8')\n",
    "df['mw_of_approved_power_stations_since_1_jan_2024'] = df['mw_of_approved_power_stations_since_1_jan_2024'].apply(lambda x: locale.atof(str(x)) if isinstance(x, str) else x)\n",
    "\n",
    "df['as_at'] = pd.to_datetime(df['as_at'], format='%d/%m/%Y')"
   ]
  },
  {
   "cell_type": "code",
   "execution_count": 23,
   "id": "6721c8d1-ce93-4194-94ce-d932757f6e46",
   "metadata": {},
   "outputs": [
    {
     "data": {
      "text/plain": [
       "12"
      ]
     },
     "execution_count": 23,
     "metadata": {},
     "output_type": "execute_result"
    }
   ],
   "source": [
    "# save to database\n",
    "table_name='total_lgcs_and_capacity_of_accredited_power_stations'\n",
    "df.to_sql(name=table_name, con=db_engine, if_exists='replace')"
   ]
  },
  {
   "cell_type": "markdown",
   "id": "359a6dd0-d244-4e63-bc98-8f4c620950bc",
   "metadata": {},
   "source": [
    "### Committed power stations"
   ]
  },
  {
   "cell_type": "code",
   "execution_count": 25,
   "id": "63b20dfc-6b6b-4ce9-88f4-8b916db45beb",
   "metadata": {},
   "outputs": [
    {
     "data": {
      "text/html": [
       "<div>\n",
       "<style scoped>\n",
       "    .dataframe tbody tr th:only-of-type {\n",
       "        vertical-align: middle;\n",
       "    }\n",
       "\n",
       "    .dataframe tbody tr th {\n",
       "        vertical-align: top;\n",
       "    }\n",
       "\n",
       "    .dataframe thead th {\n",
       "        text-align: right;\n",
       "    }\n",
       "</style>\n",
       "<table border=\"1\" class=\"dataframe\">\n",
       "  <thead>\n",
       "    <tr style=\"text-align: right;\">\n",
       "      <th></th>\n",
       "      <th>Project Name</th>\n",
       "      <th>State</th>\n",
       "      <th>MW Capacity</th>\n",
       "      <th>Fuel Source</th>\n",
       "      <th>Committed Date (Month/Year)</th>\n",
       "    </tr>\n",
       "  </thead>\n",
       "  <tbody>\n",
       "    <tr>\n",
       "      <th>0</th>\n",
       "      <td>East Rockingham Resource Recovery Facility</td>\n",
       "      <td>WA</td>\n",
       "      <td>29.0</td>\n",
       "      <td>Biomass</td>\n",
       "      <td>Dec-2019</td>\n",
       "    </tr>\n",
       "    <tr>\n",
       "      <th>1</th>\n",
       "      <td>Mangalore Renewable Energy Project</td>\n",
       "      <td>VIC</td>\n",
       "      <td>5.0</td>\n",
       "      <td>Solar</td>\n",
       "      <td>Sep-2021</td>\n",
       "    </tr>\n",
       "    <tr>\n",
       "      <th>2</th>\n",
       "      <td>Orange Community Renewable Energy Park</td>\n",
       "      <td>NSW</td>\n",
       "      <td>5.0</td>\n",
       "      <td>Solar</td>\n",
       "      <td>Jul-2022</td>\n",
       "    </tr>\n",
       "    <tr>\n",
       "      <th>3</th>\n",
       "      <td>Moorebank Logistics Park</td>\n",
       "      <td>NSW</td>\n",
       "      <td>60.0</td>\n",
       "      <td>Solar</td>\n",
       "      <td>Sep-2022</td>\n",
       "    </tr>\n",
       "    <tr>\n",
       "      <th>4</th>\n",
       "      <td>Wangaratta Solar Farm</td>\n",
       "      <td>VIC</td>\n",
       "      <td>40.0</td>\n",
       "      <td>Solar</td>\n",
       "      <td>Jul-2023</td>\n",
       "    </tr>\n",
       "  </tbody>\n",
       "</table>\n",
       "</div>"
      ],
      "text/plain": [
       "                                 Project Name State   MW Capacity Fuel Source  \\\n",
       "0  East Rockingham Resource Recovery Facility     WA         29.0     Biomass   \n",
       "1          Mangalore Renewable Energy Project    VIC          5.0       Solar   \n",
       "2      Orange Community Renewable Energy Park    NSW          5.0       Solar   \n",
       "3                    Moorebank Logistics Park    NSW         60.0       Solar   \n",
       "4                       Wangaratta Solar Farm    VIC         40.0       Solar   \n",
       "\n",
       "  Committed Date (Month/Year)  \n",
       "0                    Dec-2019  \n",
       "1                    Sep-2021  \n",
       "2                    Jul-2022  \n",
       "3                    Sep-2022  \n",
       "4                    Jul-2023  "
      ]
     },
     "execution_count": 25,
     "metadata": {},
     "output_type": "execute_result"
    }
   ],
   "source": [
    "url = \"https://cer.gov.au/document/power-stations-and-projects-committed\"\n",
    "df = pd.read_csv(url, encoding='ISO-8859-1')\n",
    "df.head()"
   ]
  },
  {
   "cell_type": "code",
   "execution_count": 26,
   "id": "6c902ded-61bc-4335-a3bd-27c5da3d7797",
   "metadata": {},
   "outputs": [
    {
     "data": {
      "text/plain": [
       "Index(['project_name', 'state', 'mw_capacity', 'fuel_source',\n",
       "       'committed_date'],\n",
       "      dtype='object')"
      ]
     },
     "execution_count": 26,
     "metadata": {},
     "output_type": "execute_result"
    }
   ],
   "source": [
    "# Rename column names\n",
    "df = df.rename(columns={\n",
    "    'Project Name': 'project_name',\n",
    "    'State ': 'state',\n",
    "    'MW Capacity': 'mw_capacity',\n",
    "    'Fuel Source': 'fuel_source',\n",
    "    'Committed Date (Month/Year)': 'committed_date'\n",
    "})\n",
    "df.columns"
   ]
  },
  {
   "cell_type": "code",
   "execution_count": 27,
   "id": "6e207c8a-1b24-4423-b6b2-6cee17e6d12c",
   "metadata": {},
   "outputs": [
    {
     "name": "stdout",
     "output_type": "stream",
     "text": [
      "project_name       object\n",
      "state              object\n",
      "mw_capacity       float64\n",
      "fuel_source        object\n",
      "committed_date     object\n",
      "dtype: object\n"
     ]
    }
   ],
   "source": [
    "# check data types\n",
    "print(df.dtypes)"
   ]
  },
  {
   "cell_type": "code",
   "execution_count": 28,
   "id": "e17263cf-b9ee-4779-aac1-f7899119bdc8",
   "metadata": {},
   "outputs": [],
   "source": [
    "# convert data types\n",
    "df[\"committed_date\"] = pd.to_datetime(df[\"committed_date\"], format=\"%b-%Y\")"
   ]
  },
  {
   "cell_type": "code",
   "execution_count": 29,
   "id": "dae11d0d-e1f0-4847-b0a7-8cd0a150c3d0",
   "metadata": {},
   "outputs": [
    {
     "data": {
      "text/plain": [
       "35"
      ]
     },
     "execution_count": 29,
     "metadata": {},
     "output_type": "execute_result"
    }
   ],
   "source": [
    "# save to database\n",
    "table_name='committed_power_stations'\n",
    "df.to_sql(name=table_name, con=db_engine, if_exists='replace')"
   ]
  },
  {
   "cell_type": "markdown",
   "id": "606893ee-c9db-44c3-a0f6-9e9d33b87b7f",
   "metadata": {},
   "source": [
    "### Probable power stations"
   ]
  },
  {
   "cell_type": "code",
   "execution_count": 31,
   "id": "0e0ef466-90f0-4f01-8312-f34275eb2df1",
   "metadata": {},
   "outputs": [
    {
     "data": {
      "text/html": [
       "<div>\n",
       "<style scoped>\n",
       "    .dataframe tbody tr th:only-of-type {\n",
       "        vertical-align: middle;\n",
       "    }\n",
       "\n",
       "    .dataframe tbody tr th {\n",
       "        vertical-align: top;\n",
       "    }\n",
       "\n",
       "    .dataframe thead th {\n",
       "        text-align: right;\n",
       "    }\n",
       "</style>\n",
       "<table border=\"1\" class=\"dataframe\">\n",
       "  <thead>\n",
       "    <tr style=\"text-align: right;\">\n",
       "      <th></th>\n",
       "      <th>Project Name</th>\n",
       "      <th>State</th>\n",
       "      <th>MW Capacity</th>\n",
       "      <th>Fuel Source</th>\n",
       "    </tr>\n",
       "  </thead>\n",
       "  <tbody>\n",
       "    <tr>\n",
       "      <th>0</th>\n",
       "      <td>Barnawartha Solar Farm</td>\n",
       "      <td>VIC</td>\n",
       "      <td>64.0</td>\n",
       "      <td>Solar</td>\n",
       "    </tr>\n",
       "    <tr>\n",
       "      <th>1</th>\n",
       "      <td>Barwon solar farm</td>\n",
       "      <td>VIC</td>\n",
       "      <td>250.0</td>\n",
       "      <td>Solar</td>\n",
       "    </tr>\n",
       "    <tr>\n",
       "      <th>2</th>\n",
       "      <td>Boddington Giga Energy</td>\n",
       "      <td>WA</td>\n",
       "      <td>400.0</td>\n",
       "      <td>Solar</td>\n",
       "    </tr>\n",
       "    <tr>\n",
       "      <th>3</th>\n",
       "      <td>Bulli Creek Solar project Stage 1</td>\n",
       "      <td>QLD</td>\n",
       "      <td>775.0</td>\n",
       "      <td>Solar</td>\n",
       "    </tr>\n",
       "    <tr>\n",
       "      <th>4</th>\n",
       "      <td>Bullyard Solar Farm</td>\n",
       "      <td>QLD</td>\n",
       "      <td>100.0</td>\n",
       "      <td>Solar</td>\n",
       "    </tr>\n",
       "  </tbody>\n",
       "</table>\n",
       "</div>"
      ],
      "text/plain": [
       "                        Project Name State   MW Capacity Fuel Source\n",
       "0             Barnawartha Solar Farm    VIC         64.0       Solar\n",
       "1                  Barwon solar farm    VIC        250.0       Solar\n",
       "2             Boddington Giga Energy     WA        400.0       Solar\n",
       "3  Bulli Creek Solar project Stage 1    QLD        775.0       Solar\n",
       "4                Bullyard Solar Farm    QLD        100.0       Solar"
      ]
     },
     "execution_count": 31,
     "metadata": {},
     "output_type": "execute_result"
    }
   ],
   "source": [
    "url = \"https://cer.gov.au/document/power-stations-and-projects-probable\"\n",
    "df = pd.read_csv(url, encoding='ISO-8859-1')\n",
    "df.head()"
   ]
  },
  {
   "cell_type": "code",
   "execution_count": 32,
   "id": "70fa263e-eabd-4e07-b609-b410b47dca92",
   "metadata": {},
   "outputs": [
    {
     "data": {
      "text/plain": [
       "Index(['project_name', 'state', 'mw_capacity', 'fuel_source'], dtype='object')"
      ]
     },
     "execution_count": 32,
     "metadata": {},
     "output_type": "execute_result"
    }
   ],
   "source": [
    "# Rename column names\n",
    "df = df.rename(columns={\n",
    "    'Project Name': 'project_name',\n",
    "    'State ': 'state',\n",
    "    'MW Capacity': 'mw_capacity',\n",
    "    'Fuel Source': 'fuel_source',\n",
    "})\n",
    "df.columns"
   ]
  },
  {
   "cell_type": "code",
   "execution_count": 33,
   "id": "eeeff520-3f40-45c2-a448-537a35d050b6",
   "metadata": {},
   "outputs": [
    {
     "name": "stdout",
     "output_type": "stream",
     "text": [
      "project_name     object\n",
      "state            object\n",
      "mw_capacity     float64\n",
      "fuel_source      object\n",
      "dtype: object\n"
     ]
    }
   ],
   "source": [
    "# check data types\n",
    "print(df.dtypes)"
   ]
  },
  {
   "cell_type": "code",
   "execution_count": 34,
   "id": "aabec941-aea7-4b0c-aa05-b701a023a45c",
   "metadata": {},
   "outputs": [
    {
     "data": {
      "text/plain": [
       "49"
      ]
     },
     "execution_count": 34,
     "metadata": {},
     "output_type": "execute_result"
    }
   ],
   "source": [
    "# save to database\n",
    "table_name='probable_power_stations'\n",
    "df.to_sql(name=table_name, con=db_engine, if_exists='replace')"
   ]
  },
  {
   "cell_type": "markdown",
   "id": "ce3ffa68-2d12-4e95-a8ff-3255613ef506",
   "metadata": {},
   "source": [
    "## 3.3. Dataset 3:  Australian Bureau of Statistic Data (ABS)"
   ]
  },
  {
   "cell_type": "code",
   "execution_count": 36,
   "id": "486aac5b-16c5-40a6-9453-cce35358c597",
   "metadata": {},
   "outputs": [],
   "source": [
    "# base url for the data file\n",
    "\n",
    "url = \"https://www.abs.gov.au/methodologies/data-region-methodology/2011-24/14100DO0001_2011-24.xlsx\""
   ]
  },
  {
   "cell_type": "code",
   "execution_count": 37,
   "id": "37729cfc-2567-4e35-a084-0564c286956f",
   "metadata": {},
   "outputs": [],
   "source": [
    "# function to clean column names\n",
    "\n",
    "def clean_column_names(df):\n",
    "    # Clean the column names\n",
    "    df.columns = df.columns.str.lower()  # Convert to lowercase\n",
    "    df.columns = df.columns.str.replace(' ', '_')  # Replace spaces with underscores\n",
    "    df.columns = df.columns.str.replace('-', '_')  # Replace dash with underscores\n",
    "    df.columns = df.columns.str.replace('no.', 'integer')  # Replace dash with underscores\n",
    "    df.columns = df.columns.str.replace('%', 'pct')  # Replace % with 'pct'\n",
    "    df.columns = df.columns.str.replace('[^a-z0-9_]', '', regex=True)  # Remove special characters\n",
    "    return df"
   ]
  },
  {
   "cell_type": "code",
   "execution_count": 38,
   "id": "11b6b8b7-5e74-4aa1-abac-b0c56a48f277",
   "metadata": {},
   "outputs": [],
   "source": [
    "# function to convert data types\n",
    "\n",
    "def convert_abs_datatype(df):\n",
    "    locale.setlocale(locale.LC_ALL, 'fr_FR.UTF-8')\n",
    "    \n",
    "    unchanged_col = [\"code\", \"label\", \"year\"]\n",
    "    \n",
    "    # Opt-in to the future behavior of replace\n",
    "    pd.set_option('future.no_silent_downcasting', True)\n",
    "    \n",
    "    for col in list(df.columns):\n",
    "        if col not in unchanged_col:\n",
    "            if \"integer\" in col:\n",
    "                df[col] = df[col].replace('-', np.nan)\n",
    "                df[col] = df[col].apply(lambda x: locale.atoi(str(x)) if isinstance(x, str) else x)\n",
    "                df[col] = df[col].astype(\"Int64\")\n",
    "            else:\n",
    "                df[col] = df[col].replace('-', np.nan)\n",
    "                df[col] = df[col].apply(lambda x: locale.atof(str(x)) if isinstance(x, str) else x)\n",
    "    return df"
   ]
  },
  {
   "cell_type": "code",
   "execution_count": 39,
   "id": "6c7efd9a-07c5-4b42-bb02-ae9cdce06f3e",
   "metadata": {},
   "outputs": [],
   "source": [
    "# function to get the data from .xlxs file and store it to postgres\n",
    "\n",
    "def dump_data(sheet, skip_rows, use_cols, geo_scope, postgres_table_name, store_mode):\n",
    "    # read file\n",
    "    df = pd.read_excel(url, sheet_name=sheet, skiprows=skip_rows, usecols=use_cols)\n",
    "\n",
    "    # clean column names\n",
    "    df = clean_column_names(df)  \n",
    "\n",
    "    # convert data type\n",
    "    df = convert_abs_datatype(df)\n",
    "\n",
    "    # adding geo_scope identifier\n",
    "    df['geo_scope'] = geo_scope\n",
    "    df['geo_scope'] = df['geo_scope'].astype(int)\n",
    "\n",
    "    # store data to database\n",
    "    df.to_sql(name=postgres_table_name, con=db_engine, if_exists=store_mode)"
   ]
  },
  {
   "cell_type": "code",
   "execution_count": 40,
   "id": "c0f4008a-a801-4f0b-b5e1-e858ffddc7e3",
   "metadata": {},
   "outputs": [],
   "source": [
    "# List of mapping postgres table name to .xlxs file table name\n",
    "\n",
    "ABS_DATA_SOURCE_FACT = [\n",
    "    {\n",
    "        \"table_name\": \"estimated_resident_population\",\n",
    "        \"col_span\": \"A:C,D:L\",\n",
    "        \"table_sheet\": [1,2,3]\n",
    "    },\n",
    "    {\n",
    "        \"table_name\": \"estimated_resident_population_males\",\n",
    "        \"col_span\": \"A:C,M:AV\",\n",
    "        \"table_sheet\": [1,2,3]\n",
    "    },\n",
    "    {\n",
    "        \"table_name\": \"estimated_resident_population_females\",\n",
    "        \"col_span\": \"A:C,AW:CF\",\n",
    "        \"table_sheet\": [1,2,3]\n",
    "    },\n",
    "    {\n",
    "        \"table_name\": \"estimated_resident_population_persons\",\n",
    "        \"col_span\": \"A:C,CG:DP\",\n",
    "        \"table_sheet\": [1,2,3]\n",
    "    },\n",
    "    {\n",
    "        \"table_name\": \"births_and_deaths\",\n",
    "        \"col_span\": \"A:C,DQ:DT\",\n",
    "        \"table_sheet\": [1,2,3]\n",
    "    },\n",
    "    {\n",
    "        \"table_name\": \"internal_and_overseas_migration\",\n",
    "        \"col_span\": \"A:C,DU:DZ\",\n",
    "        \"table_sheet\": [1,2]\n",
    "    },\n",
    "    {\n",
    "        \"table_name\": \"aboriginal_and_torres_strait_islander_peoples\",\n",
    "        \"col_span\": \"A:C,EA:EB\",\n",
    "        \"table_sheet\": [1,2]\n",
    "    },\n",
    "    {\n",
    "        \"table_name\": \"overseas_born_population\",\n",
    "        \"col_span\": \"A:C,EC:EM\",\n",
    "        \"table_sheet\": [1,2]\n",
    "    },\n",
    "    {\n",
    "        \"table_name\": \"religious_affiliation\",\n",
    "        \"col_span\": \"A:C,EN:EU\",\n",
    "        \"table_sheet\": [1,2]\n",
    "    },\n",
    "    {\n",
    "        \"table_name\": \"australian_citizenship\",\n",
    "        \"col_span\": \"A:C,EV:FA\",\n",
    "        \"table_sheet\": [1,2]\n",
    "    },\n",
    "    {\n",
    "        \"table_name\": \"speaks_other_than_english_at_home\",\n",
    "        \"col_span\": \"A:C,FB:FC\",\n",
    "        \"table_sheet\": [1,2]\n",
    "    },\n",
    "    {\n",
    "        \"table_name\": \"australian_defence_force_service\",\n",
    "        \"col_span\": \"A:C,FD:FG\",\n",
    "        \"table_sheet\": [1,2]\n",
    "    }\n",
    "]\n"
   ]
  },
  {
   "cell_type": "code",
   "execution_count": 41,
   "id": "590a10f9-75d0-48a2-a626-a3a742e09637",
   "metadata": {},
   "outputs": [
    {
     "name": "stdout",
     "output_type": "stream",
     "text": [
      "Processing ABS data - australian_defence_force_service... 12/12                                     "
     ]
    }
   ],
   "source": [
    "# get data from .xlxs file and store it to postgres\n",
    "\n",
    "for i, fact in enumerate(ABS_DATA_SOURCE_FACT):\n",
    "    table_name = fact['table_name']\n",
    "    col_span = fact['col_span']\n",
    "    \n",
    "    print(f\"Processing ABS data - {table_name}... {i+1}/{len(ABS_DATA_SOURCE_FACT)}\".ljust(100), end='\\r')\n",
    "    \n",
    "    for sheet in fact['table_sheet']:\n",
    "        table_sheet = f'Table {sheet}'\n",
    "        if sheet == 1:\n",
    "            dump_data(table_sheet, 6, col_span, sheet, table_name, \"replace\")\n",
    "        else:\n",
    "            dump_data(table_sheet, 6, col_span, sheet, table_name, \"append\")"
   ]
  }
 ],
 "metadata": {
  "kernelspec": {
   "display_name": "Assignment DE",
   "language": "python",
   "name": "assignmentde"
  },
  "language_info": {
   "codemirror_mode": {
    "name": "ipython",
    "version": 3
   },
   "file_extension": ".py",
   "mimetype": "text/x-python",
   "name": "python",
   "nbconvert_exporter": "python",
   "pygments_lexer": "ipython3",
   "version": "3.12.11"
  }
 },
 "nbformat": 4,
 "nbformat_minor": 5
}
